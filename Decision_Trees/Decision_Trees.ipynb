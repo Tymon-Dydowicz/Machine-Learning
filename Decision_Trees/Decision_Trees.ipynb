{
  "cells": [
    {
      "cell_type": "code",
      "execution_count": 1,
      "metadata": {
        "id": "yRoYhz8VjKYG"
      },
      "outputs": [],
      "source": [
        "import numpy as np\n",
        "import math\n",
        "import matplotlib.pyplot as plt \n",
        "import pandas as pd\n",
        "import common as cm\n",
        "import statistics\n",
        "from statistics import mode\n",
        "from collections import Counter\n",
        "import sys, os"
      ]
    },
    {
      "cell_type": "markdown",
      "metadata": {
        "id": "dbPpRyIdjKYK"
      },
      "source": [
        "# Part 1: Information Gain"
      ]
    },
    {
      "cell_type": "markdown",
      "metadata": {
        "id": "po-S8VoGjKYP"
      },
      "source": [
        "Important note: this exercise uses Pandas (for data manipulation and analysis) and Graphviz (for graph-drawing) libraries. "
      ]
    },
    {
      "cell_type": "markdown",
      "metadata": {
        "id": "7u2UP5gqjKYQ"
      },
      "source": [
        "This exercise consists of 3 parts. Complete the first part to get a mark of 3.0, the first two parts to get 4.0, complete all assignments to get 5.0. "
      ]
    },
    {
      "cell_type": "markdown",
      "metadata": {
        "id": "VJasuLlDjKYS"
      },
      "source": [
        "1.1 ) There are 10 objects (data) characterized with 5 binary attributes:"
      ]
    },
    {
      "cell_type": "code",
      "execution_count": 2,
      "metadata": {
        "id": "NInrMI4HjKYT"
      },
      "outputs": [],
      "source": [
        "attributeNames = [\"attr 1\", \"attr 2\", \"attr 3\", \"attr 4\", \"attr 5\"]\n",
        "\n",
        "data = pd.DataFrame(\n",
        "    [\n",
        "        [1, 0, 1, 1, 1],\n",
        "        [1, 1, 0, 0, 1],\n",
        "        [0, 1, 1, 1, 1],\n",
        "        [1, 0, 1, 0, 1],\n",
        "        [1, 0, 0, 1, 1],\n",
        "        [0, 0, 1, 1, 1],\n",
        "        [1, 1, 1, 1, 1],\n",
        "        [1, 0, 0, 1, 1],\n",
        "        [0, 1, 0, 0, 1],\n",
        "        [0, 0, 0, 1, 1],\n",
        "    ],\n",
        "    columns=attributeNames,\n",
        ")"
      ]
    },
    {
      "cell_type": "markdown",
      "metadata": {
        "id": "jUsigA8jjKYW"
      },
      "source": [
        "1.2) Each object is assigned to either a class \"0\" or \"1\". The assignments are as follows (cl):"
      ]
    },
    {
      "cell_type": "code",
      "execution_count": 3,
      "metadata": {
        "id": "vkkxnV65jKYY"
      },
      "outputs": [],
      "source": [
        "data[\"cl\"] = [1, 1, 1, 0, 0, 1, 1, 1, 0, 0]"
      ]
    },
    {
      "cell_type": "markdown",
      "metadata": {
        "id": "YOrXskxrjKYa"
      },
      "source": [
        "Hint: How one can read data (columns) in Pandas:"
      ]
    },
    {
      "cell_type": "code",
      "execution_count": 4,
      "metadata": {
        "colab": {
          "base_uri": "https://localhost:8080/"
        },
        "id": "rFzLdPIrjKYc",
        "outputId": "4fb13500-cf94-427c-afcf-d0c9fbabb191"
      },
      "outputs": [
        {
          "name": "stdout",
          "output_type": "stream",
          "text": [
            "0    1\n",
            "1    1\n",
            "2    1\n",
            "3    0\n",
            "4    0\n",
            "5    1\n",
            "6    1\n",
            "7    1\n",
            "8    0\n",
            "9    0\n",
            "Name: cl, dtype: int64\n",
            "[1, 1, 1, 0, 0, 1, 1, 1, 0, 0]\n",
            "{0, 1}\n",
            "0    1\n",
            "1    1\n",
            "2    0\n",
            "3    1\n",
            "4    1\n",
            "5    0\n",
            "6    1\n",
            "7    1\n",
            "8    0\n",
            "9    0\n",
            "Name: attr 1, dtype: int64\n"
          ]
        }
      ],
      "source": [
        "print(data[\"cl\"])\n",
        "print(list(data[\"cl\"]))\n",
        "print(set(data[\"cl\"]))\n",
        "print(data[\"attr 1\"])"
      ]
    },
    {
      "cell_type": "markdown",
      "metadata": {
        "id": "UM6mVJakjKYg"
      },
      "source": [
        "Hint: How split data (Pandas DataFrame) base on column:"
      ]
    },
    {
      "cell_type": "code",
      "execution_count": 5,
      "metadata": {
        "colab": {
          "base_uri": "https://localhost:8080/",
          "height": 174
        },
        "id": "wlUhmojWjKYh",
        "outputId": "f9cad340-a714-4092-d800-9a7b26779451"
      },
      "outputs": [
        {
          "data": {
            "text/html": [
              "\n",
              "  <div id=\"df-197c2d40-d6a4-4d3c-92c4-db8c66ad5087\">\n",
              "    <div class=\"colab-df-container\">\n",
              "      <div>\n",
              "<style scoped>\n",
              "    .dataframe tbody tr th:only-of-type {\n",
              "        vertical-align: middle;\n",
              "    }\n",
              "\n",
              "    .dataframe tbody tr th {\n",
              "        vertical-align: top;\n",
              "    }\n",
              "\n",
              "    .dataframe thead th {\n",
              "        text-align: right;\n",
              "    }\n",
              "</style>\n",
              "<table border=\"1\" class=\"dataframe\">\n",
              "  <thead>\n",
              "    <tr style=\"text-align: right;\">\n",
              "      <th></th>\n",
              "      <th>attr 1</th>\n",
              "      <th>attr 2</th>\n",
              "      <th>attr 3</th>\n",
              "      <th>attr 4</th>\n",
              "      <th>attr 5</th>\n",
              "      <th>cl</th>\n",
              "    </tr>\n",
              "  </thead>\n",
              "  <tbody>\n",
              "    <tr>\n",
              "      <th>3</th>\n",
              "      <td>1</td>\n",
              "      <td>0</td>\n",
              "      <td>1</td>\n",
              "      <td>0</td>\n",
              "      <td>1</td>\n",
              "      <td>0</td>\n",
              "    </tr>\n",
              "    <tr>\n",
              "      <th>4</th>\n",
              "      <td>1</td>\n",
              "      <td>0</td>\n",
              "      <td>0</td>\n",
              "      <td>1</td>\n",
              "      <td>1</td>\n",
              "      <td>0</td>\n",
              "    </tr>\n",
              "    <tr>\n",
              "      <th>8</th>\n",
              "      <td>0</td>\n",
              "      <td>1</td>\n",
              "      <td>0</td>\n",
              "      <td>0</td>\n",
              "      <td>1</td>\n",
              "      <td>0</td>\n",
              "    </tr>\n",
              "    <tr>\n",
              "      <th>9</th>\n",
              "      <td>0</td>\n",
              "      <td>0</td>\n",
              "      <td>0</td>\n",
              "      <td>1</td>\n",
              "      <td>1</td>\n",
              "      <td>0</td>\n",
              "    </tr>\n",
              "  </tbody>\n",
              "</table>\n",
              "</div>\n",
              "      <button class=\"colab-df-convert\" onclick=\"convertToInteractive('df-197c2d40-d6a4-4d3c-92c4-db8c66ad5087')\"\n",
              "              title=\"Convert this dataframe to an interactive table.\"\n",
              "              style=\"display:none;\">\n",
              "        \n",
              "  <svg xmlns=\"http://www.w3.org/2000/svg\" height=\"24px\"viewBox=\"0 0 24 24\"\n",
              "       width=\"24px\">\n",
              "    <path d=\"M0 0h24v24H0V0z\" fill=\"none\"/>\n",
              "    <path d=\"M18.56 5.44l.94 2.06.94-2.06 2.06-.94-2.06-.94-.94-2.06-.94 2.06-2.06.94zm-11 1L8.5 8.5l.94-2.06 2.06-.94-2.06-.94L8.5 2.5l-.94 2.06-2.06.94zm10 10l.94 2.06.94-2.06 2.06-.94-2.06-.94-.94-2.06-.94 2.06-2.06.94z\"/><path d=\"M17.41 7.96l-1.37-1.37c-.4-.4-.92-.59-1.43-.59-.52 0-1.04.2-1.43.59L10.3 9.45l-7.72 7.72c-.78.78-.78 2.05 0 2.83L4 21.41c.39.39.9.59 1.41.59.51 0 1.02-.2 1.41-.59l7.78-7.78 2.81-2.81c.8-.78.8-2.07 0-2.86zM5.41 20L4 18.59l7.72-7.72 1.47 1.35L5.41 20z\"/>\n",
              "  </svg>\n",
              "      </button>\n",
              "      \n",
              "  <style>\n",
              "    .colab-df-container {\n",
              "      display:flex;\n",
              "      flex-wrap:wrap;\n",
              "      gap: 12px;\n",
              "    }\n",
              "\n",
              "    .colab-df-convert {\n",
              "      background-color: #E8F0FE;\n",
              "      border: none;\n",
              "      border-radius: 50%;\n",
              "      cursor: pointer;\n",
              "      display: none;\n",
              "      fill: #1967D2;\n",
              "      height: 32px;\n",
              "      padding: 0 0 0 0;\n",
              "      width: 32px;\n",
              "    }\n",
              "\n",
              "    .colab-df-convert:hover {\n",
              "      background-color: #E2EBFA;\n",
              "      box-shadow: 0px 1px 2px rgba(60, 64, 67, 0.3), 0px 1px 3px 1px rgba(60, 64, 67, 0.15);\n",
              "      fill: #174EA6;\n",
              "    }\n",
              "\n",
              "    [theme=dark] .colab-df-convert {\n",
              "      background-color: #3B4455;\n",
              "      fill: #D2E3FC;\n",
              "    }\n",
              "\n",
              "    [theme=dark] .colab-df-convert:hover {\n",
              "      background-color: #434B5C;\n",
              "      box-shadow: 0px 1px 3px 1px rgba(0, 0, 0, 0.15);\n",
              "      filter: drop-shadow(0px 1px 2px rgba(0, 0, 0, 0.3));\n",
              "      fill: #FFFFFF;\n",
              "    }\n",
              "  </style>\n",
              "\n",
              "      <script>\n",
              "        const buttonEl =\n",
              "          document.querySelector('#df-197c2d40-d6a4-4d3c-92c4-db8c66ad5087 button.colab-df-convert');\n",
              "        buttonEl.style.display =\n",
              "          google.colab.kernel.accessAllowed ? 'block' : 'none';\n",
              "\n",
              "        async function convertToInteractive(key) {\n",
              "          const element = document.querySelector('#df-197c2d40-d6a4-4d3c-92c4-db8c66ad5087');\n",
              "          const dataTable =\n",
              "            await google.colab.kernel.invokeFunction('convertToInteractive',\n",
              "                                                     [key], {});\n",
              "          if (!dataTable) return;\n",
              "\n",
              "          const docLinkHtml = 'Like what you see? Visit the ' +\n",
              "            '<a target=\"_blank\" href=https://colab.research.google.com/notebooks/data_table.ipynb>data table notebook</a>'\n",
              "            + ' to learn more about interactive tables.';\n",
              "          element.innerHTML = '';\n",
              "          dataTable['output_type'] = 'display_data';\n",
              "          await google.colab.output.renderOutput(dataTable, element);\n",
              "          const docLink = document.createElement('div');\n",
              "          docLink.innerHTML = docLinkHtml;\n",
              "          element.appendChild(docLink);\n",
              "        }\n",
              "      </script>\n",
              "    </div>\n",
              "  </div>\n",
              "  "
            ],
            "text/plain": [
              "   attr 1  attr 2  attr 3  attr 4  attr 5  cl\n",
              "3       1       0       1       0       1   0\n",
              "4       1       0       0       1       1   0\n",
              "8       0       1       0       0       1   0\n",
              "9       0       0       0       1       1   0"
            ]
          },
          "execution_count": 5,
          "metadata": {},
          "output_type": "execute_result"
        }
      ],
      "source": [
        "data[data['cl']==0]"
      ]
    },
    {
      "cell_type": "markdown",
      "metadata": {
        "id": "QCcUmZptjKYi"
      },
      "source": [
        "Hint: How take values from column (Pandas Series):"
      ]
    },
    {
      "cell_type": "code",
      "execution_count": 6,
      "metadata": {
        "colab": {
          "base_uri": "https://localhost:8080/"
        },
        "id": "XfHK3ubXjKYj",
        "outputId": "5e7515d0-cfce-4647-d783-955d8c6c353d"
      },
      "outputs": [
        {
          "name": "stdout",
          "output_type": "stream",
          "text": [
            "0 1\n",
            "1 1\n",
            "2 1\n",
            "3 0\n",
            "4 0\n",
            "5 1\n",
            "6 1\n",
            "7 1\n",
            "8 0\n",
            "9 0\n"
          ]
        }
      ],
      "source": [
        "for id, row in data['cl'].items():\n",
        "    print(id,row)"
      ]
    },
    {
      "cell_type": "markdown",
      "metadata": {
        "id": "1Pavt7CJjKYl"
      },
      "source": [
        "1.3 )  Finish the below function for calculating entropy. $H(CL) = - \\sum_{y \\in CL}p(y)log_2p(y)$ It should return a value of entropy for an input vector CL. Assume that $log_2(0)$ is equal to 0."
      ]
    },
    {
      "cell_type": "code",
      "execution_count": 7,
      "metadata": {
        "id": "ZC1K7-UpjKYl"
      },
      "outputs": [],
      "source": [
        "def getEntropy(cl):\n",
        "    All = len(cl)\n",
        "    P1, P0 = 0, 0\n",
        "    for value in cl:\n",
        "        if value == 1:\n",
        "            P1 += 1\n",
        "        elif value == 0:\n",
        "            P0 += 1\n",
        "    if P1 == 0:\n",
        "        Ent = -((P0/All)*np.log2(P0/All))\n",
        "    elif P0 == 0:\n",
        "        Ent = -((P1/All)*np.log2(P1/All))\n",
        "    else:\n",
        "        Ent = -((P1/All)*np.log2(P1/All)) - ((P0/All)*np.log2(P0/All))\n",
        "    return Ent"
      ]
    },
    {
      "cell_type": "markdown",
      "metadata": {
        "id": "N5FQFTmfjKYn"
      },
      "source": [
        "1.4 ) Calculate the entropy for the CL vector  (the result should be 0.97095...):"
      ]
    },
    {
      "cell_type": "code",
      "execution_count": 8,
      "metadata": {
        "colab": {
          "base_uri": "https://localhost:8080/"
        },
        "id": "5aWqrKRTjKYo",
        "outputId": "9db2b10c-d5d4-440c-d7a4-98f916c7a476"
      },
      "outputs": [
        {
          "name": "stdout",
          "output_type": "stream",
          "text": [
            "0.9709505944546686\n",
            "-0.0\n"
          ]
        }
      ],
      "source": [
        "print(getEntropy(data['cl']))\n",
        "print(getEntropy(data['attr 5']))"
      ]
    },
    {
      "cell_type": "markdown",
      "metadata": {
        "id": "Zcqq4GsBjKYp"
      },
      "source": [
        "1.5) Finish the below function for calculating a conditional entropy: $H(CL|X) = - \\sum_{x \\in X} \\sum_{y \\in CL} p(x,y) log_2 \\frac{p(x,y)}{p(x)}$. Assume that $log_2(0)$ is equal to 0 and if $p(x) = 0$, $\\frac{p(x,y)}{p(x)}$ is equal to 0 as well."
      ]
    },
    {
      "cell_type": "code",
      "execution_count": 9,
      "metadata": {
        "id": "qap5dIr1jKYq"
      },
      "outputs": [],
      "source": [
        "def getConditionalEntropy(cl, attr):\n",
        "    P0 = cl[attr == 0]\n",
        "    P1 = cl[attr == 1]\n",
        "    All = len(cl)\n",
        "    temp1 = len(cl[attr == 1])\n",
        "    temp0 = len(cl[attr == 0])\n",
        "    if len(P0) == 0:\n",
        "        Cond = (temp1/All)*getEntropy(P1)\n",
        "    elif len(P1) == 0:\n",
        "        Cond = (temp0/All)*getEntropy(P0)\n",
        "    else:\n",
        "        Cond = (temp1/All)*getEntropy(P1) + (temp0/All)*getEntropy(P0)\n",
        "    return Cond"
      ]
    },
    {
      "cell_type": "markdown",
      "metadata": {
        "id": "u0AdxRMijKYr"
      },
      "source": [
        "1.6 ) Calculate conditional entropies for given attribiutes."
      ]
    },
    {
      "cell_type": "code",
      "execution_count": 10,
      "metadata": {
        "colab": {
          "base_uri": "https://localhost:8080/"
        },
        "id": "ErNRuBYpjKYs",
        "outputId": "9dea8cb2-1034-4aee-ffb0-73a00745ac61"
      },
      "outputs": [
        {
          "name": "stdout",
          "output_type": "stream",
          "text": [
            "0.9509775004326937\n",
            "0.9709505944546686\n"
          ]
        }
      ],
      "source": [
        "print(getConditionalEntropy(data[\"cl\"], data[\"attr 1\"]))\n",
        "print(getConditionalEntropy(data[\"cl\"], data[\"attr 5\"])) "
      ]
    },
    {
      "cell_type": "markdown",
      "metadata": {
        "id": "z10g8LK4jKYt"
      },
      "source": [
        "1.7 ) **Question: Which entropy is lesser and why?**"
      ]
    },
    {
      "cell_type": "markdown",
      "metadata": {
        "id": "wkkSJ__aVRfm"
      },
      "source": [
        "The one got with attribute 1, because it results in a better divided tree than attribute 5"
      ]
    },
    {
      "cell_type": "markdown",
      "metadata": {
        "id": "FDxGIdQkjKYu"
      },
      "source": [
        "1.8) Finish the below function for calculating information gain (use getEntropy() and getConditionalEntropy() functions):"
      ]
    },
    {
      "cell_type": "code",
      "execution_count": 11,
      "metadata": {
        "id": "WxeP6nmrjKYv"
      },
      "outputs": [],
      "source": [
        "def getInformationGain(cl, attr):\n",
        "    Gain = getEntropy(cl) - getConditionalEntropy(cl, attr)\n",
        "    return Gain"
      ]
    },
    {
      "cell_type": "code",
      "execution_count": 12,
      "metadata": {
        "colab": {
          "base_uri": "https://localhost:8080/"
        },
        "id": "491FqoxljKYv",
        "outputId": "13c92552-3952-4e24-9374-9447d5d6899e"
      },
      "outputs": [
        {
          "name": "stdout",
          "output_type": "stream",
          "text": [
            "0.01997309402197489\n",
            "0.0\n"
          ]
        }
      ],
      "source": [
        "print(getInformationGain(data[\"cl\"], data[\"attr 1\"]))\n",
        "print(getInformationGain(data[\"cl\"], data[\"attr 5\"]))"
      ]
    },
    {
      "cell_type": "markdown",
      "metadata": {
        "id": "El0Lc9LPjKYw"
      },
      "source": [
        "1.9) **Question: Which IG is lesser and why?**"
      ]
    },
    {
      "cell_type": "markdown",
      "metadata": {
        "id": "VeupHth4VHM6"
      },
      "source": [
        "One with attribute 5, because every data has this attirbute so choosing to split on this argument will not give us any new information"
      ]
    },
    {
      "cell_type": "markdown",
      "metadata": {
        "id": "PcOUhuiTjKYx"
      },
      "source": [
        "# Part 2: ID3 algorithm"
      ]
    },
    {
      "cell_type": "markdown",
      "metadata": {
        "id": "M_Wgb_56jKYy"
      },
      "source": [
        "Decision tree consists of decision nodes and leaves. Nodes split data while leaves classify objects. Consider the class \"Node\" provided below. It consists of 4 fields:\n",
        "- attr - attribute ID (use the names in attributeNames vector)\n",
        "- left - left branch, i.e., a reference to other node\n",
        "- right - right branch, i.e., a reference to other node\n",
        "- value - a decision. If node = None, then the node is not a leaf. If value is not None, then a node is considered a leaf. \n",
        "\n",
        "Method __call__ returns the decision if the node is a leaf (i.e., when value is not None). \n",
        "Otherwise, it calls either the left or the right branch of an input object, based on the attribute value (0 -> left children; 1 -> right children). In this way, we can traverse the decision tree in order to find the final decision."
      ]
    },
    {
      "cell_type": "code",
      "execution_count": 13,
      "metadata": {
        "colab": {
          "base_uri": "https://localhost:8080/"
        },
        "id": "9pxkVTZvjKYy",
        "outputId": "92cf9680-f118-4d46-9b6f-326cb9dde31e"
      },
      "outputs": [
        {
          "name": "stdout",
          "output_type": "stream",
          "text": [
            "3\n",
            "4\n",
            "2\n",
            "2\n"
          ]
        }
      ],
      "source": [
        "class Node:\n",
        "    def __init__(self, attr, left, right, value):\n",
        "        self.attr = attr\n",
        "        self.left = left\n",
        "        self.right = right\n",
        "        self.value = value\n",
        "\n",
        "    def __call__(self, obj):\n",
        "        if self.value is None:\n",
        "            if obj[self.attr] == 0:\n",
        "                return self.left(obj)\n",
        "            else:\n",
        "                return self.right(obj)\n",
        "        else:\n",
        "            return self.value\n",
        "        \n",
        "### EXAMPLE\n",
        "def example(obj):\n",
        "    root = Node(0, None, None, None) ###  IN ROOT SPLIT ON 1ST (0) ATTRIBUTE\n",
        "    lChildren = Node(1, None, None, None) ### IN ROOT's LEFT CHILDREN SPLIT ON 2ND (1) ATTRIBUTE\n",
        "    rChildren = Node(None, None, None, 2) ### IN ROOT's RIGHT CHILDREN -> DECISION = 2\n",
        "    root.left = lChildren\n",
        "    root.right = rChildren\n",
        "    llChildren = Node(None, None, None, 3) ### IN ROOT's LEFT-LEFT CHILDREN -> DECISION = 3\n",
        "    lrChildren = Node(None, None, None, 4) ### IN ROOT's LEFT-RIGHT CHILDREN -> DECISION = 4\n",
        "    lChildren.left = llChildren\n",
        "    lChildren.right = lrChildren\n",
        "    print(root(obj))\n",
        "    \n",
        "example([0, 0]) ### ROOT : FIRST ATTRIBUTE = 0 SO WE GO TO LEFT CHILDREN.\n",
        "### IT IS A LEAF WITH THE DECISION = 3\n",
        "### THEN, IN THE CORRESPONDING CHILDREN, THE SECOND ATTRIBUTE = 0, SO WE GO TO LEFT-LEFT CHILDREN\n",
        "\n",
        "example([0, 1]) \n",
        "example([1, 0])\n",
        "example([1, 1])"
      ]
    },
    {
      "cell_type": "markdown",
      "metadata": {
        "id": "Zj50b-PxjKYz"
      },
      "source": [
        "2.1) Create an initial root. Set the value (decision) to 1. "
      ]
    },
    {
      "cell_type": "code",
      "execution_count": 14,
      "metadata": {
        "id": "VPC3VS8SjKY0"
      },
      "outputs": [],
      "source": [
        "root = Node(None, None, None, 1)"
      ]
    },
    {
      "cell_type": "markdown",
      "metadata": {
        "id": "fQeQrUezjKY0"
      },
      "source": [
        "2.2) Use a getErrorRate method in common.py auxiliary file to calculate the error rate. The decision is made based on the majority rule. In case of tie, the method takes 0 as the default class."
      ]
    },
    {
      "cell_type": "code",
      "execution_count": 15,
      "metadata": {
        "colab": {
          "base_uri": "https://localhost:8080/"
        },
        "id": "3okIHHsjjKY0",
        "outputId": "73698c1e-6933-44c0-e66f-5ddca12d0d7a"
      },
      "outputs": [
        {
          "data": {
            "text/plain": [
              "0.4"
            ]
          },
          "execution_count": 15,
          "metadata": {},
          "output_type": "execute_result"
        }
      ],
      "source": [
        "cm.getErrorRate(root, data)"
      ]
    },
    {
      "cell_type": "markdown",
      "metadata": {
        "id": "BIx3TDKEjKY1"
      },
      "source": [
        "2.3) Use printGraph method (see the common.py file) to draw the decision tree and save it in a png file."
      ]
    },
    {
      "cell_type": "code",
      "execution_count": 16,
      "metadata": {
        "colab": {
          "base_uri": "https://localhost:8080/",
          "height": 286
        },
        "id": "TPyq9TlLjKY2",
        "outputId": "2f220135-38cd-4fc3-b925-75e43691cbc5"
      },
      "outputs": [
        {
          "data": {
            "text/plain": [
              "<matplotlib.image.AxesImage at 0x7fad6aaa4a10>"
            ]
          },
          "execution_count": 16,
          "metadata": {},
          "output_type": "execute_result"
        },
        {
          "data": {
            "image/png": "[encoded data removed]",
            "text/plain": [
              "<Figure size 432x288 with 1 Axes>"
            ]
          },
          "metadata": {
            "needs_background": "light"
          },
          "output_type": "display_data"
        }
      ],
      "source": [
        "cm.printGraph(root, data, fileName = 'DecTree0')\n",
        "plt.imshow(plt.imread('DecTree0.png'))"
      ]
    },
    {
      "cell_type": "markdown",
      "metadata": {
        "id": "Ww5TC5r6jKY3"
      },
      "source": [
        "2.4) Calculate information gain for all attribiutes."
      ]
    },
    {
      "cell_type": "code",
      "execution_count": 44,
      "metadata": {
        "colab": {
          "base_uri": "https://localhost:8080/",
          "height": 122
        },
        "id": "1DibyCeIjKY3",
        "outputId": "e33c2064-179d-4b55-97c3-1155142c9f8f"
      },
      "outputs": [
        {
          "name": "stdout",
          "output_type": "stream",
          "text": [
            "0.01997309402197489 attr 1\n",
            "0.0464393446710154 attr 2\n",
            "0.12451124978365313 attr 3\n",
            "0.0912774462416801 attr 4\n",
            "0.0 attr 5\n"
          ]
        },
        {
          "data": {
            "application/vnd.google.colaboratory.intrinsic+json": {
              "type": "string"
            },
            "text/plain": [
              "'attr 3'"
            ]
          },
          "execution_count": 44,
          "metadata": {},
          "output_type": "execute_result"
        }
      ],
      "source": [
        "def printInformationGain(data , names):\n",
        "    for attribute_name in names:\n",
        "        temp1 = getInformationGain(data['cl'], data[attribute_name])\n",
        "        print(str(temp1) + ' ' + str(attribute_name))\n",
        "def getBestInformationGain(data, names):\n",
        "    best = 0\n",
        "    mem = None\n",
        "    for attribute_name in names:\n",
        "        temp1 = (getInformationGain(data['cl'], data[attribute_name]))\n",
        "        if temp1 > best:\n",
        "          best = temp1\n",
        "          mem = attribute_name\n",
        "        else:\n",
        "          continue\n",
        "    if mem is None:\n",
        "      return \"No split will provide new information\"       \n",
        "\n",
        "    #elif best < 'prepruning factor':         # PREPRUNING /OPTIONAL/\n",
        "   #  return \"No split should be performed\"\n",
        "    else:\n",
        "      return mem\n",
        "def Most_common(Class):\n",
        "      temp1 = Counter(Class)\n",
        "      return temp1.most_common(1)[0][0]\n",
        "\n",
        "printInformationGain(data, attributeNames)\n",
        "getBestInformationGain(data, attributeNames)"
      ]
    },
    {
      "cell_type": "markdown",
      "metadata": {
        "id": "JW_wNgchjKY4"
      },
      "source": [
        "2.5) Choose the best attribute to split the data (HINT, it should be the third attribute :)). Construct two new nodes: one for $x_i$ = 0 decision and the second for $x_i$ = 1; connect them with the root (left and right branch). Remember to update the root. "
      ]
    },
    {
      "cell_type": "code",
      "execution_count": 18,
      "metadata": {
        "id": "jBWL_YXBjKY4"
      },
      "outputs": [],
      "source": [
        "chosen0 = getBestInformationGain(data, attributeNames)\n",
        "root.attr = chosen0\n",
        "root.value = None\n",
        "L1Child = Node(None, None, None, Most_common(data[data[chosen0]==0]['cl']))\n",
        "R1Child = Node(None, None, None, Most_common(data[data[chosen0]==1]['cl']))\n",
        "root.left = L1Child\n",
        "root.right = R1Child"
      ]
    },
    {
      "cell_type": "markdown",
      "metadata": {
        "id": "hBMh6R94jKY5"
      },
      "source": [
        "2.6) Print the graph and calculate the error rate. What happened with the error rate?"
      ]
    },
    {
      "cell_type": "code",
      "execution_count": 19,
      "metadata": {
        "colab": {
          "base_uri": "https://localhost:8080/",
          "height": 286
        },
        "id": "qVUy1IVpjKY5",
        "outputId": "e6932b30-1746-43b2-df3b-b16648f270e7"
      },
      "outputs": [
        {
          "data": {
            "text/plain": [
              "0.30000000000000004"
            ]
          },
          "execution_count": 19,
          "metadata": {},
          "output_type": "execute_result"
        },
        {
          "data": {
            "image/png": "[encoded data removed]",
            "text/plain": [
              "<Figure size 432x288 with 1 Axes>"
            ]
          },
          "metadata": {
            "needs_background": "light"
          },
          "output_type": "display_data"
        }
      ],
      "source": [
        "cm.printGraph(root, data, fileName = 'DecTree1')\n",
        "plt.imshow(plt.imread('DecTree1.png'))\n",
        "cm.getErrorRate(root, data)"
      ]
    },
    {
      "cell_type": "markdown",
      "metadata": {
        "id": "eMruwgdOtZt0"
      },
      "source": [
        "The error rate decreased compared to w/o splitting"
      ]
    },
    {
      "cell_type": "markdown",
      "metadata": {
        "id": "qrPAnB3GjKY7"
      },
      "source": [
        "2.7) Split the 'data' (table) based on the selected attribiute, i.e., create two new tables."
      ]
    },
    {
      "cell_type": "code",
      "execution_count": 20,
      "metadata": {
        "colab": {
          "base_uri": "https://localhost:8080/"
        },
        "id": "c231nHeVjKY7",
        "outputId": "ebc43caf-a3d4-4491-ecfb-0b8c92bde168"
      },
      "outputs": [
        {
          "name": "stdout",
          "output_type": "stream",
          "text": [
            "   attr 1  attr 2  attr 3  attr 4  attr 5  cl\n",
            "1       1       1       0       0       1   1\n",
            "4       1       0       0       1       1   0\n",
            "7       1       0       0       1       1   1\n",
            "8       0       1       0       0       1   0\n",
            "9       0       0       0       1       1   0\n",
            "\n",
            "\n",
            "   attr 1  attr 2  attr 3  attr 4  attr 5  cl\n",
            "0       1       0       1       1       1   1\n",
            "2       0       1       1       1       1   1\n",
            "3       1       0       1       0       1   0\n",
            "5       0       0       1       1       1   1\n",
            "6       1       1       1       1       1   1\n"
          ]
        }
      ],
      "source": [
        "left_data = data[data[chosen0]==0]\n",
        "right_data = data[data[chosen0]==1]\n",
        "print(left_data)\n",
        "print('\\n')\n",
        "print(right_data)"
      ]
    },
    {
      "cell_type": "markdown",
      "metadata": {
        "id": "sZAmZmNCjKY8"
      },
      "source": [
        "2.8) Let us start with the left node. Firstly, calculate information gain for this node."
      ]
    },
    {
      "cell_type": "code",
      "execution_count": 21,
      "metadata": {
        "colab": {
          "base_uri": "https://localhost:8080/",
          "height": 226
        },
        "id": "yyfrthH9jKY8",
        "outputId": "e3a28def-c9a3-4e39-85fe-ef1ad5aecce9"
      },
      "outputs": [
        {
          "name": "stdout",
          "output_type": "stream",
          "text": [
            "   attr 1  attr 2  attr 3  attr 4  attr 5  cl\n",
            "1       1       1       0       0       1   1\n",
            "4       1       0       0       1       1   0\n",
            "7       1       0       0       1       1   1\n",
            "8       0       1       0       0       1   0\n",
            "9       0       0       0       1       1   0\n",
            "0.4199730940219749 attr 1\n",
            "0.01997309402197489 attr 2\n",
            "0.0 attr 3\n",
            "0.01997309402197489 attr 4\n",
            "0.0 attr 5\n"
          ]
        },
        {
          "data": {
            "application/vnd.google.colaboratory.intrinsic+json": {
              "type": "string"
            },
            "text/plain": [
              "'attr 1'"
            ]
          },
          "execution_count": 21,
          "metadata": {},
          "output_type": "execute_result"
        }
      ],
      "source": [
        "print(left_data)\n",
        "printInformationGain(left_data, attributeNames)\n",
        "getBestInformationGain(left_data, attributeNames)\n"
      ]
    },
    {
      "cell_type": "markdown",
      "metadata": {
        "id": "0o0gYKCqjKY8"
      },
      "source": [
        "2.9) Choose the best attribute to split the data and then update the decision tree."
      ]
    },
    {
      "cell_type": "code",
      "execution_count": 22,
      "metadata": {
        "id": "mUdx0CQGjKY9"
      },
      "outputs": [],
      "source": [
        "chosen1 = getBestInformationGain(left_data, attributeNames)\n",
        "L1Child.attr = chosen1\n",
        "L1Child.value = None\n",
        "L2Child = Node(None, None, None, Most_common(left_data[left_data[chosen1]==0]['cl']))\n",
        "L1R1Child = Node(None, None, None, Most_common(left_data[left_data[chosen1]==1]['cl']))\n",
        "L1Child.left = L2Child\n",
        "L1Child.right = L1R1Child"
      ]
    },
    {
      "cell_type": "markdown",
      "metadata": {
        "id": "c2Iajz3tjKY9"
      },
      "source": [
        "2.10) Print the graph and calculate the error rate (HINT: should be 0.2 :). What happened with the error rate?"
      ]
    },
    {
      "cell_type": "markdown",
      "metadata": {
        "id": "UCehq_vYiv2U"
      },
      "source": [
        "Error rate once again decreased"
      ]
    },
    {
      "cell_type": "code",
      "execution_count": 23,
      "metadata": {
        "colab": {
          "base_uri": "https://localhost:8080/",
          "height": 286
        },
        "id": "M91ZpRFOjKY-",
        "outputId": "f5ba5140-9751-4f20-fdbe-ac17d6f5460c"
      },
      "outputs": [
        {
          "data": {
            "text/plain": [
              "0.19999999999999996"
            ]
          },
          "execution_count": 23,
          "metadata": {},
          "output_type": "execute_result"
        },
        {
          "data": {
            "image/png": "[encoded data removed]",
            "text/plain": [
              "<Figure size 432x288 with 1 Axes>"
            ]
          },
          "metadata": {
            "needs_background": "light"
          },
          "output_type": "display_data"
        }
      ],
      "source": [
        "cm.printGraph(root, data, fileName = 'DecTree2')\n",
        "plt.imshow(plt.imread('DecTree2.png'))\n",
        "cm.getErrorRate(root, data)"
      ]
    },
    {
      "cell_type": "markdown",
      "metadata": {
        "id": "UAbF7EnfjKY-"
      },
      "source": [
        "2.11) Split data (remember that we split left_data, not data)."
      ]
    },
    {
      "cell_type": "code",
      "execution_count": 24,
      "metadata": {
        "colab": {
          "base_uri": "https://localhost:8080/"
        },
        "id": "h1-AWexDjKY-",
        "outputId": "27b1ecc9-69d6-484f-ee05-7d48eabf4676"
      },
      "outputs": [
        {
          "name": "stdout",
          "output_type": "stream",
          "text": [
            "   attr 1  attr 2  attr 3  attr 4  attr 5  cl\n",
            "8       0       1       0       0       1   0\n",
            "9       0       0       0       1       1   0\n",
            "   attr 1  attr 2  attr 3  attr 4  attr 5  cl\n",
            "1       1       1       0       0       1   1\n",
            "4       1       0       0       1       1   0\n",
            "7       1       0       0       1       1   1\n"
          ]
        }
      ],
      "source": [
        "left_left_data = left_data[left_data[chosen1]==0]\n",
        "right_left_data = left_data[left_data[chosen1]==1]\n",
        "print(left_left_data)\n",
        "print(right_left_data)"
      ]
    },
    {
      "cell_type": "markdown",
      "metadata": {
        "id": "Rzrudde9jKY_"
      },
      "source": [
        "2.12) Repeat the whole process for the right node."
      ]
    },
    {
      "cell_type": "code",
      "execution_count": 25,
      "metadata": {
        "colab": {
          "base_uri": "https://localhost:8080/",
          "height": 226
        },
        "id": "TNSZefxKjKY_",
        "outputId": "1e75e7e8-4162-4319-b30f-77c09d887093"
      },
      "outputs": [
        {
          "name": "stdout",
          "output_type": "stream",
          "text": [
            "   attr 1  attr 2  attr 3  attr 4  attr 5  cl\n",
            "0       1       0       1       1       1   1\n",
            "2       0       1       1       1       1   1\n",
            "3       1       0       1       0       1   0\n",
            "5       0       0       1       1       1   1\n",
            "6       1       1       1       1       1   1\n",
            "0.17095059445466865 attr 1\n",
            "0.17095059445466865 attr 2\n",
            "0.0 attr 3\n",
            "0.7219280948873623 attr 4\n",
            "0.0 attr 5\n"
          ]
        },
        {
          "data": {
            "application/vnd.google.colaboratory.intrinsic+json": {
              "type": "string"
            },
            "text/plain": [
              "'attr 4'"
            ]
          },
          "execution_count": 25,
          "metadata": {},
          "output_type": "execute_result"
        }
      ],
      "source": [
        "print(right_data)\n",
        "printInformationGain(right_data, attributeNames)\n",
        "getBestInformationGain(right_data, attributeNames)"
      ]
    },
    {
      "cell_type": "code",
      "execution_count": 26,
      "metadata": {
        "id": "Ltr1ED_EjKZA"
      },
      "outputs": [],
      "source": [
        "chosen2 = getBestInformationGain(right_data, attributeNames)\n",
        "R1Child.attr = chosen2\n",
        "R1Child.value = None\n",
        "R2Child = Node(None, None, None, Most_common(right_data[right_data[chosen2]==1]['cl']))\n",
        "R1L1Child = Node(None, None, None, Most_common(right_data[right_data[chosen2]==0]['cl']))\n",
        "R1Child.right = R2Child\n",
        "R1Child.left = R1L1Child"
      ]
    },
    {
      "cell_type": "code",
      "execution_count": 27,
      "metadata": {
        "colab": {
          "base_uri": "https://localhost:8080/",
          "height": 286
        },
        "id": "WKtlemgyjKZB",
        "outputId": "623a3e34-6299-4552-9d71-d881c92e847e"
      },
      "outputs": [
        {
          "data": {
            "text/plain": [
              "0.09999999999999998"
            ]
          },
          "execution_count": 27,
          "metadata": {},
          "output_type": "execute_result"
        },
        {
          "data": {
            "image/png": "[encoded data removed]",
            "text/plain": [
              "<Figure size 432x288 with 1 Axes>"
            ]
          },
          "metadata": {
            "needs_background": "light"
          },
          "output_type": "display_data"
        }
      ],
      "source": [
        "cm.printGraph(root, data, fileName = 'DecTree3')\n",
        "plt.imshow(plt.imread('DecTree3.png'))\n",
        "cm.getErrorRate(root, data)"
      ]
    },
    {
      "cell_type": "code",
      "execution_count": 28,
      "metadata": {
        "colab": {
          "base_uri": "https://localhost:8080/"
        },
        "id": "krbztYtTjKZB",
        "outputId": "69fe72d0-4229-45cf-e71d-924bddde0d40"
      },
      "outputs": [
        {
          "name": "stdout",
          "output_type": "stream",
          "text": [
            "   attr 1  attr 2  attr 3  attr 4  attr 5  cl\n",
            "3       1       0       1       0       1   0\n",
            "   attr 1  attr 2  attr 3  attr 4  attr 5  cl\n",
            "0       1       0       1       1       1   1\n",
            "2       0       1       1       1       1   1\n",
            "5       0       0       1       1       1   1\n",
            "6       1       1       1       1       1   1\n"
          ]
        }
      ],
      "source": [
        "left_right_data = right_data[right_data[chosen2]==0]\n",
        "right_right_data = right_data[right_data[chosen2]==1]\n",
        "print(left_right_data)\n",
        "print(right_right_data)"
      ]
    },
    {
      "cell_type": "markdown",
      "metadata": {
        "id": "EVsLYRq7jKZB"
      },
      "source": [
        "2.13) Let's consider left-left node. Calculate information gain for it."
      ]
    },
    {
      "cell_type": "code",
      "execution_count": 29,
      "metadata": {
        "colab": {
          "base_uri": "https://localhost:8080/",
          "height": 122
        },
        "id": "TxAg4sdwjKZC",
        "outputId": "c546c20e-ef83-4fe9-bc01-54a35020ed6d"
      },
      "outputs": [
        {
          "name": "stdout",
          "output_type": "stream",
          "text": [
            "0.0 attr 1\n",
            "0.0 attr 2\n",
            "0.0 attr 3\n",
            "0.0 attr 4\n",
            "0.0 attr 5\n"
          ]
        },
        {
          "data": {
            "application/vnd.google.colaboratory.intrinsic+json": {
              "type": "string"
            },
            "text/plain": [
              "'No split will provide new information'"
            ]
          },
          "execution_count": 29,
          "metadata": {},
          "output_type": "execute_result"
        }
      ],
      "source": [
        "printInformationGain(left_left_data, attributeNames)\n",
        "getBestInformationGain(left_left_data, attributeNames)"
      ]
    },
    {
      "cell_type": "markdown",
      "metadata": {
        "id": "vLwq82nIjKZC"
      },
      "source": [
        "2.14) Will adding a new node to the tree improve its effectiveness? Why? Why not?"
      ]
    },
    {
      "cell_type": "markdown",
      "metadata": {
        "id": "jvGHyQxKwspG"
      },
      "source": [
        "No, because no matter on what atrribute we decide to split the left branch we will also get 1 error and all examples in the right branch are classified correctly"
      ]
    },
    {
      "cell_type": "markdown",
      "metadata": {
        "id": "9zVlXB-WjKZD"
      },
      "source": [
        "2.15) Calculate information gain for the left-right node."
      ]
    },
    {
      "cell_type": "code",
      "execution_count": 30,
      "metadata": {
        "colab": {
          "base_uri": "https://localhost:8080/",
          "height": 122
        },
        "id": "HNSxCfjrjKZD",
        "outputId": "a26421ec-04e1-43cf-d0c9-9ee3c84c4ae7"
      },
      "outputs": [
        {
          "name": "stdout",
          "output_type": "stream",
          "text": [
            "0.0 attr 1\n",
            "0.2516291673878229 attr 2\n",
            "0.0 attr 3\n",
            "0.2516291673878229 attr 4\n",
            "0.0 attr 5\n"
          ]
        },
        {
          "data": {
            "application/vnd.google.colaboratory.intrinsic+json": {
              "type": "string"
            },
            "text/plain": [
              "'attr 2'"
            ]
          },
          "execution_count": 30,
          "metadata": {},
          "output_type": "execute_result"
        }
      ],
      "source": [
        "printInformationGain(right_left_data, attributeNames)\n",
        "getBestInformationGain(right_left_data, attributeNames)"
      ]
    },
    {
      "cell_type": "code",
      "execution_count": 31,
      "metadata": {
        "id": "25zK604pjKZD"
      },
      "outputs": [],
      "source": [
        "chosen3 = getBestInformationGain(right_left_data, attributeNames)\n",
        "L1R1Child.attr = chosen3\n",
        "L1R1Child.value = None\n",
        "L1R2Child = Node(None, None, None, Most_common(right_left_data[right_left_data[chosen3]==1]['cl']))\n",
        "L1R1L1Child = Node(None, None, None, Most_common(right_left_data[right_left_data[chosen3]==0]['cl']))\n",
        "L1R1Child.right = L1R2Child\n",
        "L1R1Child.left = L1R1L1Child"
      ]
    },
    {
      "cell_type": "code",
      "execution_count": 32,
      "metadata": {
        "colab": {
          "base_uri": "https://localhost:8080/",
          "height": 286
        },
        "id": "720e69bhjKZE",
        "outputId": "040d85c4-1f5b-4673-ffa3-a028eb2840e9"
      },
      "outputs": [
        {
          "data": {
            "text/plain": [
              "0.09999999999999998"
            ]
          },
          "execution_count": 32,
          "metadata": {},
          "output_type": "execute_result"
        },
        {
          "data": {
            "image/png": "[encoded data removed]",
            "text/plain": [
              "<Figure size 432x288 with 1 Axes>"
            ]
          },
          "metadata": {
            "needs_background": "light"
          },
          "output_type": "display_data"
        }
      ],
      "source": [
        "cm.printGraph(root, data, fileName = 'DecTree4')\n",
        "plt.imshow(plt.imread('DecTree4.png'))\n",
        "cm.getErrorRate(root, data)\n"
      ]
    },
    {
      "cell_type": "markdown",
      "metadata": {
        "id": "aBic7nGyjKZE"
      },
      "source": [
        "2.16) What happened with the error rate? Is it necessary to keep these two newly added leaves?"
      ]
    },
    {
      "cell_type": "markdown",
      "metadata": {
        "id": "h4CyETHl-S6r"
      },
      "source": [
        "It stayed the same. New leaves are redundant and not needed"
      ]
    },
    {
      "cell_type": "markdown",
      "metadata": {
        "id": "yH6nCAGVjKZE"
      },
      "source": [
        "2.17) Finish creating the right side of the tree"
      ]
    },
    {
      "cell_type": "code",
      "execution_count": 33,
      "metadata": {
        "colab": {
          "base_uri": "https://localhost:8080/"
        },
        "id": "Z0mdhvtcjKZF",
        "outputId": "6f2b4a2b-d62e-4a71-c04e-a917f4232c7e"
      },
      "outputs": [
        {
          "name": "stdout",
          "output_type": "stream",
          "text": [
            "0.0 attr 1\n",
            "0.0 attr 2\n",
            "0.0 attr 3\n",
            "0.0 attr 4\n",
            "0.0 attr 5\n",
            "0.0 attr 1\n",
            "0.0 attr 2\n",
            "0.0 attr 3\n",
            "0.0 attr 4\n",
            "0.0 attr 5\n"
          ]
        }
      ],
      "source": [
        "printInformationGain(left_right_data, attributeNames)\n",
        "printInformationGain(right_right_data, attributeNames)"
      ]
    },
    {
      "cell_type": "markdown",
      "metadata": {
        "id": "gHd7nzjWCXgu"
      },
      "source": [
        "Splitting, creating new nodes/leaves does not provide any information gain so doing that is not needed so the right side of the tree is already finished."
      ]
    },
    {
      "cell_type": "markdown",
      "metadata": {
        "id": "MJJGfVeNjKZF"
      },
      "source": [
        "# Part 3: automated construction of decision trees"
      ]
    },
    {
      "cell_type": "markdown",
      "metadata": {
        "id": "yy4DEmE-jKZF"
      },
      "source": [
        "3.1 Complete the following function for automated construct of decision trees, so that it returns a decision tree for the given data and attribute list. Note that this is a recusive method, i.e., calls itself."
      ]
    },
    {
      "cell_type": "code",
      "execution_count": 47,
      "metadata": {
        "id": "Amj5YHwtjKZG"
      },
      "outputs": [],
      "source": [
        "from re import template\n",
        "from ssl import DefaultVerifyPaths\n",
        "from PIL.Image import NONE\n",
        "depth = 0\n",
        "def Naming(node, branch):\n",
        "  node = str(node)\n",
        "  new_node = node[:-4] + str(branch) + node[-4:]\n",
        "  return new_node\n",
        "  \n",
        "name = 'root'\n",
        "root = Node(None, None, None, Most_common(data['cl']))\n",
        "\n",
        "def createTree(data, attributeNames, root, name, depth):\n",
        "  if depth < max_depth:\n",
        "    data = data.reset_index().drop(\"index\", axis=1)\n",
        "    chosen = getBestInformationGain(data, attributeNames)\n",
        "    if chosen == 'No split will provide new information' or chosen == 'No split should be performed':\n",
        "        #print(\"Split wasn't performed at \" + str(name))  #Fun to see where the split doesnt happen,\n",
        "                                                          #Although takes a lot of space in last exercise :C\n",
        "        pass\n",
        "    else:\n",
        "        L_data = data[data[chosen]==0]\n",
        "        R_data = data[data[chosen]==1]\n",
        "        root.attr = chosen\n",
        "        root.value = None\n",
        "        tempL = Naming(name, 'L')\n",
        "        tempR = Naming(name, 'R')\n",
        "        Lnode = tempL\n",
        "        Rnode = tempR\n",
        "        Lnode = Node(None, None, None, Most_common(L_data['cl']))\n",
        "        Rnode = Node(None, None, None, Most_common(R_data['cl']))\n",
        "        root.left = Lnode\n",
        "        root.right = Rnode\n",
        "\n",
        "        depth += 1\n",
        "        createTree(L_data, attributeNames, Lnode, tempL, depth)\n",
        "        createTree(R_data, attributeNames, Rnode, tempR, depth)\n",
        "  else:\n",
        "    return 'Maximum depth exceeded'"
      ]
    },
    {
      "cell_type": "markdown",
      "metadata": {
        "id": "nTrUan_ljKZG"
      },
      "source": [
        "3.2) Build a decision tree for a training dataset in the common.py auxiliary file, for diffrent values of max_depth.  Calculate & compare the error rates for training and validation datasets."
      ]
    },
    {
      "cell_type": "code",
      "execution_count": 48,
      "metadata": {
        "colab": {
          "base_uri": "https://localhost:8080/",
          "height": 286
        },
        "id": "LdHaYQkfjKZH",
        "outputId": "b173ecc9-985e-4daf-e316-1f562d68783c"
      },
      "outputs": [
        {
          "data": {
            "text/plain": [
              "<matplotlib.image.AxesImage at 0x7fad69c0bf50>"
            ]
          },
          "execution_count": 48,
          "metadata": {},
          "output_type": "execute_result"
        },
        {
          "data": {
            "image/png": "[encoded data removed]",
            "text/plain": [
              "<Figure size 432x288 with 1 Axes>"
            ]
          },
          "metadata": {
            "needs_background": "light"
          },
          "output_type": "display_data"
        }
      ],
      "source": [
        "# Training dataset\n",
        "max_depth = 10\n",
        "depth = 0\n",
        "train_attributeNames, train_data = cm.getTrainingDataSet()\n",
        "root = Node(None, None, None, Most_common(train_data['cl']))\n",
        "name = 'root'\n",
        "TreeTest = createTree(train_data, train_attributeNames, root, name, depth)\n",
        "cm.printGraph(root, train_data, fileName = 'TrainDecTree')\n",
        "plt.imshow(plt.imread('TrainDecTree.png'))"
      ]
    },
    {
      "cell_type": "code",
      "execution_count": 49,
      "metadata": {
        "colab": {
          "base_uri": "https://localhost:8080/"
        },
        "id": "9ofqC91ojKZI",
        "outputId": "2b846cf5-4271-43c8-f521-abec5213c870"
      },
      "outputs": [
        {
          "name": "stdout",
          "output_type": "stream",
          "text": [
            "0.19999999999999996\n",
            "0.4\n"
          ]
        }
      ],
      "source": [
        "# Validation dataset\n",
        "max_depth = 10\n",
        "valid_attributeNames, valid_data = cm.getValidationDataSet()\n",
        "print(cm.getErrorRate(root, train_data))\n",
        "print(cm.getErrorRate(root, valid_data))"
      ]
    },
    {
      "cell_type": "markdown",
      "metadata": {
        "id": "kp7sN6E2jKZI"
      },
      "source": [
        "3.3) Consider only the training data set and answer the following questions:\n",
        "* What is the miximum depth of the tree (consider only the training data set)?\n",
        "* The tree building process should stop when there is no improvement in error rate (why?). Check for which value of \"max_dept\" there is no improvement in error rate. "
      ]
    },
    {
      "cell_type": "code",
      "execution_count": 54,
      "metadata": {
        "colab": {
          "base_uri": "https://localhost:8080/"
        },
        "id": "mgSiUzOOjKZI",
        "outputId": "b1334ec0-41fe-4b86-d5eb-138eb6b6050b"
      },
      "outputs": [
        {
          "name": "stdout",
          "output_type": "stream",
          "text": [
            "0.5 | depth 1\n",
            "0.5 | depth 2\n",
            "0.5 | depth 3\n",
            "0.4 | depth 4\n",
            "0.5 | depth 5\n",
            "0.4 | depth 6\n",
            "0.4 | depth 7\n",
            "0.4 | depth 8\n",
            "0.4 | depth 9\n",
            "0.4 | depth 10\n"
          ]
        }
      ],
      "source": [
        "for i in range(10):\n",
        "    max_depth = i\n",
        "    depth = 0\n",
        "    root = Node(None, None, None, Most_common(train_data['cl']))\n",
        "    name = 'root'\n",
        "    TreeValid = createTree(train_data, train_attributeNames, root, name, depth)\n",
        "    print(cm.getErrorRate(root, valid_data), '| depth ' + str(i+1))\n",
        "\n",
        "#for error in Errors:\n",
        "  #print(error)"
      ]
    }
  ],
  "metadata": {
    "colab": {
      "collapsed_sections": [],
      "name": "DecTrees.ipynb",
      "provenance": []
    },
    "kernelspec": {
      "display_name": "Python 3 (ipykernel)",
      "language": "python",
      "name": "python3"
    },
    "language_info": {
      "codemirror_mode": {
        "name": "ipython",
        "version": 3
      },
      "file_extension": ".py",
      "mimetype": "text/x-python",
      "name": "python",
      "nbconvert_exporter": "python",
      "pygments_lexer": "ipython3",
      "version": "3.9.7"
    },
    "toc-autonumbering": false,
    "toc-showcode": false,
    "toc-showmarkdowntxt": true
  },
  "nbformat": 4,
  "nbformat_minor": 0
}
