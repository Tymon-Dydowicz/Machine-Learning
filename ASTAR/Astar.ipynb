{
  "cells": [
    {
      "cell_type": "code",
      "execution_count": null,
      "metadata": {
        "id": "VatDlm_am0JO"
      },
      "outputs": [],
      "source": [
        "import numpy as np\n",
        "import matplotlib.pyplot as plt\n",
        "import math\n",
        "import common as cm"
      ]
    },
    {
      "cell_type": "markdown",
      "metadata": {
        "id": "bCBhvV53m0JR"
      },
      "source": [
        "This exercise consists of only one part."
      ]
    },
    {
      "cell_type": "markdown",
      "metadata": {
        "id": "OJhuCKa9m0JS"
      },
      "source": [
        "# A-star algorithm"
      ]
    },
    {
      "cell_type": "markdown",
      "metadata": {
        "id": "HgDCUp_Am0JT"
      },
      "source": [
        "The task of the A-star algorithm is to find the shortest path between two nodes in the graph. This algorithm is often used to find the shortest path on a 2d map. In this case, nodes are different possible positions (fields), and edges from node in the graph lead to adjacent fields. See the example map below:"
      ]
    },
    {
      "cell_type": "code",
      "execution_count": null,
      "metadata": {
        "colab": {
          "base_uri": "https://localhost:8080/",
          "height": 282
        },
        "id": "JVcHqqaZm0JT",
        "outputId": "62c10cf4-b911-4f46-c46a-f596dd2b3329"
      },
      "outputs": [
        {
          "name": "stdout",
          "output_type": "stream",
          "text": [
            "(0, 7) (9, 0)\n"
          ]
        },
        {
          "data": {
            "image/png": "[encoded data removed]",
            "text/plain": [
              "<Figure size 432x288 with 1 Axes>"
            ]
          },
          "metadata": {
            "needs_background": "light"
          },
          "output_type": "display_data"
        }
      ],
      "source": [
        "position_start, position_target, terrain  = cm.getSmallExample()\n",
        "### THE NEXT 2 LINES: OVERRIDE SOME CELLS IN THE MATRIX TO SHOW START/STOP LOCATIONS\n",
        "terrain[position_start[0]][position_start[1]] = 2 ### START\n",
        "terrain[position_target[0]][position_target[1]] = 2 ### TARGET\n",
        "### CYAN LOCATIONS = OBSTACLES\n",
        "plt.imshow(terrain) \n",
        "print(str(position_start) + \" \" + str(position_target))"
      ]
    },
    {
      "cell_type": "markdown",
      "metadata": {
        "id": "wqzyB2jhm0JU"
      },
      "source": [
        "You can consider even bigger case:"
      ]
    },
    {
      "cell_type": "code",
      "execution_count": null,
      "metadata": {
        "colab": {
          "base_uri": "https://localhost:8080/",
          "height": 284
        },
        "id": "BgHbh-Qdm0JV",
        "outputId": "f31d515c-d2eb-4a07-dda6-fef68c5610bc"
      },
      "outputs": [
        {
          "data": {
            "text/plain": [
              "<matplotlib.image.AxesImage at 0x7f82ed824dd0>"
            ]
          },
          "execution_count": 3,
          "metadata": {},
          "output_type": "execute_result"
        },
        {
          "data": {
            "image/png": "[encoded data removed]",
            "text/plain": [
              "<Figure size 432x288 with 1 Axes>"
            ]
          },
          "metadata": {
            "needs_background": "light"
          },
          "output_type": "display_data"
        }
      ],
      "source": [
        "position_start, position_target, terrain  = cm.getBigExample()\n",
        "terrain[position_start[0]][position_start[1]] = 2 ### START\n",
        "terrain[position_target[0]][position_target[1]] = 2 ### START\n",
        "plt.imshow(terrain) "
      ]
    },
    {
      "cell_type": "markdown",
      "metadata": {
        "id": "8z4b7Fxrm0JW"
      },
      "source": [
        "There are various possible moves depending on different neighbourhood models and the different cost values for each move."
      ]
    },
    {
      "cell_type": "code",
      "execution_count": null,
      "metadata": {
        "id": "CUV7J6JYm0JW"
      },
      "outputs": [],
      "source": [
        "possible_moves = [(i-1,j-1) for i in range(3) for j in range(3) if i !=1 or j !=1]\n",
        "#possible_moves = [(0,1),(1,0),(0,-1),(-1,0)]\n",
        "#possible_moves = [(1,2),(2,1),(1,-2),(-2,1),(-1,2),(2,-1),(-1,-2),(-2,-1)]"
      ]
    },
    {
      "cell_type": "code",
      "execution_count": null,
      "metadata": {
        "id": "PhKHTU3mm0JX"
      },
      "outputs": [],
      "source": [
        "possible_moves_costs = [math.sqrt(abs(i)+abs(j)) for i,j in possible_moves]\n",
        "#possible_moves_costs = [0.5+(abs(i)+abs(j))/2 for i,j in possible_moves]"
      ]
    },
    {
      "cell_type": "markdown",
      "metadata": {
        "id": "7MxjAic0m0JX"
      },
      "source": [
        "In this task, we will use the node class, which will store references to the node from which we came (parent) positions, and the g (actual cost from the beginning of the path to this node) and f (estimated path length passing through this node)."
      ]
    },
    {
      "cell_type": "markdown",
      "metadata": {
        "id": "rNUevTXNm0JY"
      },
      "source": [
        "1.1) Complete the function estimatePathLenght calculating the value of f, based on the actual distance of the node from the source g and the Euclidean distance to the target h."
      ]
    },
    {
      "cell_type": "code",
      "execution_count": null,
      "metadata": {
        "id": "hFGxlXb_m0JY"
      },
      "outputs": [],
      "source": [
        "class Node():\n",
        "    def __init__(self, parent, position):\n",
        "        self.parent = parent # a reference to the previous (parent) node in the path\n",
        "        self.position = position # node's (x, y) position in the map       \n",
        "        self.g = 0 # g is the actual cost from the source to the node,\n",
        "        self.f = 0 # f is the estimation of the length of the path from the source to the target, \n",
        "                   # passing through the node (i.e., g(x) + h(x)).\n",
        "        self.step = 0 # it says in which step the node was created (visited).\n",
        "        \n",
        "    def __eq__(self, other): ### to check whether two nodes are equal, i.e., takes the same positions\n",
        "        return self.position == other.position \n",
        "    \n",
        "    def updateG(self, cost): ### update the cost based on its parent's cost. \n",
        "        self.g = self.parent.g + cost        \n",
        "        \n",
        "    def getPath(self): ### get a path (list of positions) from the source to this node\n",
        "                       ### this is a recusive method calling self.parent.getPath()\n",
        "        if self.parent is None:\n",
        "            return [self.position]\n",
        "        else:\n",
        "            return self.parent.getPath() + [self.position]\n",
        "        \n",
        "    def estimatePathLenght(self, target):      \n",
        "        #TODO\n",
        "        act = self.g\n",
        "        heur = math.sqrt((self.position[0]-target.position[0])**2+(self.position[1]-target.position[1])**2)\n",
        "        self.f = act + heur\n"
      ]
    },
    {
      "cell_type": "markdown",
      "metadata": {
        "id": "Q7AmZrdwm0JZ"
      },
      "source": [
        "Then there is a function that checks whether a given position is correct, not out of range, and whether it is an obstacle."
      ]
    },
    {
      "cell_type": "code",
      "execution_count": null,
      "metadata": {
        "id": "S-S2k___m0JZ"
      },
      "outputs": [],
      "source": [
        "def validPosition(position, terrain):\n",
        "    if position[0]<0 or position[1]<0 or position[0]>=terrain.shape[0] or position[1]>=terrain.shape[1]:\n",
        "        return False\n",
        "    if  terrain[position] == 1:\n",
        "        return False\n",
        "    return True\n",
        "        "
      ]
    },
    {
      "cell_type": "markdown",
      "metadata": {
        "id": "_7GGQoIAm0Ja"
      },
      "source": [
        "1.2) Complete the function calculating the shortest path using the A * algorithm. \n",
        "\n",
        "1) To do this, find all neighbours positions for the considered node, then check that the position is correct. <br>\n",
        "2) If so, create a new node (child/neighbour) which parent is the node being considered.<br>\n",
        "3) Calculate the child's g value using the cost of transition from node to child.<br>\n",
        "4) Check if the child node has already been visited (closed set).<br>\n",
        "5) If not then check if there is a node on the open set (unvisited) with the same position but a smaller g-value (it's closer to the source).<br>\n",
        "6) If not, calculate the estimated distance from source to destination through the child and add this node to the list to check.<br>\n",
        "7) After generating all adjacent nodes, sort the open set list so that the next considered node has the smallest f value.<br>\n",
        "\n",
        "The algorithm returns a node whose position is the same as the target position and which stores the entire path through the parent field."
      ]
    },
    {
      "cell_type": "code",
      "execution_count": null,
      "metadata": {
        "id": "7W6gugv1m0Ja"
      },
      "outputs": [],
      "source": [
        "def A_star(terrain, position_start, position_target, possible_moves, possible_moves_costs):\n",
        "    root = Node(None, position_start) ### THE SOURCE NODE\n",
        "    target = Node(None,position_target) ### THE TARGET NODE\n",
        "    \n",
        "    closed_set = []\n",
        "    open_set = []\n",
        "    open_set.append(root)\n",
        "    ### Assume that open_set (nodes to be potentially visited) is kept sorted \n",
        "    ### according to node's f score (the lower the better). In each iteration, \n",
        "    ### the best node is popped from the queue. \n",
        "    step = 0 ### This is the first iteration\n",
        "    root.step = step \n",
        "    while(len(open_set)>0):\n",
        "        ### TODO you can follow the hints or you can write your own version\n",
        "        open_set.sort(key= lambda x: x.f, reverse=True)\n",
        "        node = open_set.pop()\n",
        "        closed_set.append(node)\n",
        "        step+=2\n",
        "        node.step = step\n",
        "        if node == target:\n",
        "            return node,closed_set\n",
        "        #TODO\n",
        "        # Iterate over all possible moves and their costs (you can use zip in the for loop)\n",
        "        for move, cost in zip(possible_moves, possible_moves_costs):\n",
        "            position = (node.position[0] + move[0], node.position[1] + move[1])\n",
        "            if validPosition(position, terrain):\n",
        "              child = Node(node, position)\n",
        "              child.updateG(cost)\n",
        "              if child in closed_set:\n",
        "                continue\n",
        "              else:\n",
        "                if child in open_set:\n",
        "                  if child.g > open_set[open_set.index(child)].g:\n",
        "                    continue\n",
        "                  else:\n",
        "                    child.estimatePathLenght(target)\n",
        "                    open_set[open_set.index(child)] = child\n",
        "                else:\n",
        "                  child.estimatePathLenght(target)\n",
        "                  open_set.append(child)\n",
        "            else:\n",
        "              continue\n",
        "\n",
        "            \n",
        "       \n",
        "            ### 1. create the child node position using the original node's position + move\n",
        "            ### 2. If the child's position is not valid, than ignore this child node\n",
        "            ### 3. Create child node and update its cost  (updateG)\n",
        "            ### 4. If there exists the same node in closed_set than ignore this child node\n",
        "            ### 5. If there exists the same node node in open_set with better score (check .g score), than ignore this child node\n",
        "            ### However, if child is better than some node in open_set, remove the worse (check .g score)\n",
        "            ### node from the open_set\n",
        "            ### 6. If the child node passed all tests,  then calcluate estimatePathLenght of node.\n",
        "            ### 7. The child node can be added to open_set (remember to sort open_set accord to f score)"
      ]
    },
    {
      "cell_type": "markdown",
      "metadata": {
        "id": "ctXBWKtvm0Jb"
      },
      "source": [
        "1.3) Find the shortest path for \"small example\":"
      ]
    },
    {
      "cell_type": "code",
      "execution_count": null,
      "metadata": {
        "id": "08QsOrK8m0Jb"
      },
      "outputs": [],
      "source": [
        "position_start, position_target, terrain  = cm.getSmallExample()"
      ]
    },
    {
      "cell_type": "markdown",
      "metadata": {
        "id": "ae7ALi4fm0Jb"
      },
      "source": [
        "Show terrain<br>\n",
        "1 means wall, and 0 empty fields."
      ]
    },
    {
      "cell_type": "code",
      "execution_count": null,
      "metadata": {
        "colab": {
          "base_uri": "https://localhost:8080/",
          "height": 282
        },
        "id": "9Ad4phZ-m0Jb",
        "outputId": "be5cf36e-d481-43c9-8f72-9821337ec888"
      },
      "outputs": [
        {
          "data": {
            "text/plain": [
              "<matplotlib.image.AxesImage at 0x7f82ed59e950>"
            ]
          },
          "execution_count": 23,
          "metadata": {},
          "output_type": "execute_result"
        },
        {
          "data": {
            "image/png": "[encoded data removed]",
            "text/plain": [
              "<Figure size 432x288 with 1 Axes>"
            ]
          },
          "metadata": {
            "needs_background": "light"
          },
          "output_type": "display_data"
        }
      ],
      "source": [
        "plt.imshow(terrain)"
      ]
    },
    {
      "cell_type": "markdown",
      "metadata": {
        "id": "3g7hXdc4m0Jc"
      },
      "source": [
        "Run A star algorithm"
      ]
    },
    {
      "cell_type": "code",
      "execution_count": null,
      "metadata": {
        "colab": {
          "base_uri": "https://localhost:8080/"
        },
        "id": "7ZWNeoyAm0Jc",
        "outputId": "93c096e3-89c6-481e-cc92-773a2e0ea668"
      },
      "outputs": [
        {
          "name": "stdout",
          "output_type": "stream",
          "text": [
            "13.65685424949238\n",
            "51\n",
            "[<__main__.Node object at 0x7f82ed6c1890>, <__main__.Node object at 0x7f82ed6c1050>, <__main__.Node object at 0x7f82ed6c1dd0>, <__main__.Node object at 0x7f82ed6c1e10>, <__main__.Node object at 0x7f82ed736a50>, <__main__.Node object at 0x7f82ed6c13d0>, <__main__.Node object at 0x7f82ed648550>, <__main__.Node object at 0x7f82ed7f98d0>, <__main__.Node object at 0x7f82ed6c42d0>, <__main__.Node object at 0x7f82ed59ead0>, <__main__.Node object at 0x7f82ed6c1d10>, <__main__.Node object at 0x7f82ed6c4350>, <__main__.Node object at 0x7f82ed6c4f10>, <__main__.Node object at 0x7f82ed6c4fd0>, <__main__.Node object at 0x7f82ed6c44d0>, <__main__.Node object at 0x7f82f400f0d0>, <__main__.Node object at 0x7f82ed6c1f50>, <__main__.Node object at 0x7f82f400fb50>, <__main__.Node object at 0x7f82ed6c4510>, <__main__.Node object at 0x7f82ed6c48d0>, <__main__.Node object at 0x7f82ed6c4b90>, <__main__.Node object at 0x7f82ed6c4210>, <__main__.Node object at 0x7f82ed6c4d10>, <__main__.Node object at 0x7f82ed6c4050>, <__main__.Node object at 0x7f82ed6c4b10>, <__main__.Node object at 0x7f82ed6c4450>, <__main__.Node object at 0x7f82ed6c4310>, <__main__.Node object at 0x7f82ed6c4c10>, <__main__.Node object at 0x7f82ed6c4750>, <__main__.Node object at 0x7f82ed6c11d0>, <__main__.Node object at 0x7f82ed5feb50>, <__main__.Node object at 0x7f82ed6c4c90>, <__main__.Node object at 0x7f82ed6c45d0>, <__main__.Node object at 0x7f82ed6c1e50>, <__main__.Node object at 0x7f82ed6c4290>, <__main__.Node object at 0x7f82ed7d4290>, <__main__.Node object at 0x7f82ed6c1850>, <__main__.Node object at 0x7f82ed7d4a90>, <__main__.Node object at 0x7f82ed5fe110>, <__main__.Node object at 0x7f82ed7d40d0>, <__main__.Node object at 0x7f82ed7d4550>, <__main__.Node object at 0x7f82ed6c4710>, <__main__.Node object at 0x7f82ed7f3290>, <__main__.Node object at 0x7f82ed655f90>, <__main__.Node object at 0x7f82ed6c1c50>, <__main__.Node object at 0x7f82ed840310>, <__main__.Node object at 0x7f82ed6c4250>, <__main__.Node object at 0x7f82ed703090>, <__main__.Node object at 0x7f82ed703150>, <__main__.Node object at 0x7f82ed7030d0>, <__main__.Node object at 0x7f82ed6c1f10>]\n"
          ]
        }
      ],
      "source": [
        "path, closed_set = A_star(terrain, position_start, position_target, possible_moves, possible_moves_costs)\n",
        "print(path.g)\n",
        "print(path.step)\n",
        "print(closed_set)"
      ]
    },
    {
      "cell_type": "markdown",
      "metadata": {
        "id": "az_DUsN-m0Jc"
      },
      "source": [
        "Plot path"
      ]
    },
    {
      "cell_type": "code",
      "execution_count": null,
      "metadata": {
        "colab": {
          "base_uri": "https://localhost:8080/",
          "height": 265
        },
        "id": "L-aVJZblm0Jc",
        "outputId": "185c9cc7-61bb-46d6-df34-f18afbbdcc13"
      },
      "outputs": [
        {
          "data": {
            "image/png": "[encoded data removed]",
            "text/plain": [
              "<Figure size 432x288 with 1 Axes>"
            ]
          },
          "metadata": {
            "needs_background": "light"
          },
          "output_type": "display_data"
        }
      ],
      "source": [
        "cm.plotPath(terrain, path)"
      ]
    },
    {
      "cell_type": "markdown",
      "metadata": {
        "id": "fuqaD3-gm0Jc"
      },
      "source": [
        "Plot closed_set where colors indicate the number of the last iteration in which the node was checked."
      ]
    },
    {
      "cell_type": "code",
      "execution_count": null,
      "metadata": {
        "colab": {
          "base_uri": "https://localhost:8080/",
          "height": 265
        },
        "id": "e_vi_ZIvm0Jc",
        "outputId": "0fb65719-b64d-4645-b8f8-4d34cda9830a"
      },
      "outputs": [
        {
          "data": {
            "image/png": "[encoded data removed]",
            "text/plain": [
              "<Figure size 432x288 with 1 Axes>"
            ]
          },
          "metadata": {
            "needs_background": "light"
          },
          "output_type": "display_data"
        }
      ],
      "source": [
        "cm.plotSteps(terrain, closed_set)"
      ]
    },
    {
      "cell_type": "markdown",
      "metadata": {
        "id": "FujOeB1Tm0Jd"
      },
      "source": [
        "1.4) Find the shortest path for the \"big example\":"
      ]
    },
    {
      "cell_type": "code",
      "execution_count": null,
      "metadata": {
        "id": "xx31WxfRm0Jd"
      },
      "outputs": [],
      "source": [
        "position_start, position_target, terrain  = cm.getBigExample()"
      ]
    },
    {
      "cell_type": "code",
      "execution_count": null,
      "metadata": {
        "colab": {
          "base_uri": "https://localhost:8080/"
        },
        "id": "ZC778IjYm0Jd",
        "outputId": "44e3352e-6eb6-48fd-d7fc-c483143c43f1"
      },
      "outputs": [
        {
          "name": "stdout",
          "output_type": "stream",
          "text": [
            "40.11269837220809\n",
            "262\n"
          ]
        }
      ],
      "source": [
        "path,closed_set = A_star(terrain, position_start, position_target, possible_moves, possible_moves_costs)\n",
        "print(path.g)\n",
        "print(path.step)"
      ]
    },
    {
      "cell_type": "code",
      "execution_count": null,
      "metadata": {
        "colab": {
          "base_uri": "https://localhost:8080/",
          "height": 267
        },
        "id": "_eAAgt_xm0Jd",
        "outputId": "c071d505-8c5d-4c85-e3f3-eeffcb4d43ce"
      },
      "outputs": [
        {
          "data": {
            "image/png": "[encoded data removed]",
            "text/plain": [
              "<Figure size 432x288 with 1 Axes>"
            ]
          },
          "metadata": {
            "needs_background": "light"
          },
          "output_type": "display_data"
        }
      ],
      "source": [
        "cm.plotPath(terrain, path)"
      ]
    },
    {
      "cell_type": "code",
      "execution_count": null,
      "metadata": {
        "colab": {
          "base_uri": "https://localhost:8080/",
          "height": 267
        },
        "id": "MRKQHjZzm0Jd",
        "outputId": "c5da9a7f-b550-43ef-b353-2ad1083590f3"
      },
      "outputs": [
        {
          "data": {
            "image/png": "[encoded data removed]",
            "text/plain": [
              "<Figure size 432x288 with 1 Axes>"
            ]
          },
          "metadata": {
            "needs_background": "light"
          },
          "output_type": "display_data"
        }
      ],
      "source": [
        "cm.plotSteps(terrain,closed_set)"
      ]
    },
    {
      "cell_type": "code",
      "execution_count": null,
      "metadata": {
        "id": "5DxiaAudm0Jd"
      },
      "outputs": [],
      "source": []
    }
  ],
  "metadata": {
    "colab": {
      "provenance": []
    },
    "kernelspec": {
      "display_name": "Python 3",
      "language": "python",
      "name": "python3"
    },
    "language_info": {
      "codemirror_mode": {
        "name": "ipython",
        "version": 3
      },
      "file_extension": ".py",
      "mimetype": "text/x-python",
      "name": "python",
      "nbconvert_exporter": "python",
      "pygments_lexer": "ipython3",
      "version": "3.7.4"
    }
  },
  "nbformat": 4,
  "nbformat_minor": 0
}
