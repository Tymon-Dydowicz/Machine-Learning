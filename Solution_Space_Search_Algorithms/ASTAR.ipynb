{
  "cells": [
    {
      "cell_type": "markdown",
      "metadata": {
        "id": "UBzyRmCbSZ0j"
      },
      "source": [
        "# Informed search - the A* algorithm"
      ]
    },
    {
      "cell_type": "markdown",
      "metadata": {
        "id": "k-wk1XCvSZ0s"
      },
      "source": [
        "Depth-first search and breadth-first search considered in the previous lesson are completely *blind* algorithms: they're only concerned whether the currently considered state is a goal state or not. They're unable to distinguish whether a state is easy or hard to reach, or whether it is near or far of the goal. This makes them very inefficient search algorithms. To allievate the issue, we introduce informed search algorithms. The information is given to an algorithm in two ways:\n",
        "\n",
        "1. By using an *action cost* function $c(s,a)$, which, given a state $s$ and an action $a$ available in this state, returns its cost as a non-negative number.\n",
        "2. By using a *heuristic* $h(s)$, which, given a state, estimates the lowest cost to reach a goal state from the given state.\n",
        "\n",
        "Given a sequence of actions $a_1, \\ldots, a_n$ and an initial state $s_1$, we can express the *total cost* of reaching the state $s_{n+1}$ by executing the sequence as:\n",
        "$$ c(s_1, a_1, \\ldots, a_{n-1}) = \\sum_{i=1}^n c(s_i, a_i) $$\n",
        "and the *expected cost* of the solution as the sum of the total cost and the estimate cost of reaching the goal from the state $s_{n+1}$\n",
        "$$ f(s_1, a_1, \\ldots, a_n) = c(s_1, a_1, \\ldots, a_n) + h(s_{n+1}) $$\n",
        "\n",
        "The heuristic function is a bit tricky, because we want it to have two properties:\n",
        "* *Admissibility*: It must never *overestimate* the true cost of reaching the goal. \n",
        "* *Consistency*: Let $s$ be a state such that $a$ is an available action in this state and $s'$ is the state reached by executing this action. The heuristic should fulfil triangle inequality, that is, the estimated cost to reach the goal from $s$ should be no greater than the cost of executing the action $a$ + the estimated cost of reaching the goal from the new state.\n",
        "$$ h(s) \\leq c(s, a) + h(s') $$\n",
        "\n",
        "One can prove that admissibility follows from consistency, but consistency is important only if there are multiple paths to reach the same state (i.e., we are searching in a graph, not in a tree). Otherwise, admissability is sufficient."
      ]
    },
    {
      "cell_type": "markdown",
      "metadata": {
        "id": "TANggNsFSZ0v"
      },
      "source": [
        "Lets extend the class `Problem` from the previous lesson with two new functions `action_cost` and `heuristic`, which correspond to the functions $c(s,a)$ and $h(s)$ described above."
      ]
    },
    {
      "cell_type": "code",
      "execution_count": 35,
      "metadata": {
        "id": "au_cHa0dSZ0w"
      },
      "outputs": [],
      "source": [
        "class Problem:\n",
        "    @property\n",
        "    def initial_state(self):\n",
        "        ...\n",
        "        \n",
        "    def available_actions(self, state):\n",
        "        ...        \n",
        "        \n",
        "    def do_action(self, state, action):\n",
        "        ...\n",
        "        return new_state\n",
        "    \n",
        "    def is_goal(self, state) -> bool:\n",
        "        ...\n",
        "        \n",
        "    def action_cost(self, state, action) -> float:\n",
        "        ...\n",
        "        \n",
        "    def heuristic(self, state) -> float:\n",
        "        ..."
      ]
    },
    {
      "cell_type": "markdown",
      "metadata": {
        "id": "K-1Hp4TYSZ01"
      },
      "source": [
        "To make a concrete example, lets revisit the vacuum world. \n",
        "\n",
        "![](aima-images/fig2_2.png)\n",
        "\n",
        "Below, we assume a very simple model:\n",
        "* Any action costs 1. This corresponds to searching for the shortest plan.\n",
        "* The heuristic estimation is the number of fields which are still dirty. \n",
        "\n",
        "\n",
        "Lets consider the properties of the heuristic:\n",
        "* Is is admissible? The heuristic value is equal to the number of 'Suck' actions that are yet to be executed and ignores the spatial aspect (i.e., moving between the rooms), thus never overestimating.\n",
        "* Is it consistent? As a consequence of a single action the heuristic value can decrease by at most 1 (if the action happens to be 'Suck' and the room is dirty). The cost of any action is 1, so rewriting the triangle inequality we arrive at:\n",
        "$$ h(s) \\leq c(s, a) + h(s') = \\begin{cases} 1 + (h(s)-1) & a=\\text{'Suck' and the room was dirty} \\\\ 1 + h(s) & \\text{otherwise} \\end{cases} $$\n",
        "* Is it the best we could have? By no means! We could include the spatial aspect."
      ]
    },
    {
      "cell_type": "code",
      "execution_count": 36,
      "metadata": {
        "id": "BStWFrakSZ02"
      },
      "outputs": [],
      "source": [
        "class VacuumProblem(Problem):\n",
        "    @property\n",
        "    def initial_state(self):\n",
        "        return (0, (True, True))\n",
        "    \n",
        "    def available_actions(self, state):\n",
        "        return [\"Left\", \"Suck\", \"Right\"]\n",
        "        \n",
        "    def do_action(self, state, action):\n",
        "        robot, dirty = state\n",
        "        if action == \"Left\":\n",
        "            return (max(robot-1, 0), dirty)\n",
        "        elif action == \"Suck\":\n",
        "            new_dirty = list(dirty)\n",
        "            new_dirty[robot] = False\n",
        "            return (robot, tuple(new_dirty))\n",
        "        elif action == \"Right\":\n",
        "            return (min(robot+1, len(dirty)-1), dirty)        \n",
        "        raise Exception('Invalid action')\n",
        "    \n",
        "    def is_goal(self, state) -> bool:\n",
        "        return not any(state[1])\n",
        "    \n",
        "    def action_cost(self, state, action):\n",
        "        return 1\n",
        "    \n",
        "    def heuristic(self, state):\n",
        "        return sum(state[1])"
      ]
    },
    {
      "cell_type": "markdown",
      "metadata": {
        "id": "YEbISTq8SZ05"
      },
      "source": [
        "## Task 1: Implement the A* algorithm\n",
        "\n",
        "To implement the A* algorithm you must have a priority queue. Luckily, Python comes with one, so you don't need to implement it by yourself. Then, the algorithm is very simple: \n",
        "1. Start with a queue containing a single item - the initial state\n",
        "2. Repeat until the queue is not empty:\n",
        "  1. Pick an item with the lowest expected cost\n",
        "  2. If this is the goal, return the sequence of actions necessary to reach this state\n",
        "  3. Otherwise, for each available action, create a new entry in the queue corresponding to the state reached after executing the action.\n",
        "  \n",
        "Guard the algorithm against infinite loops: if you already visited a state, you don't need to visit it again (if your heuristic is consistent).\n",
        "\n",
        "In the cell below implement the algorithm in a similar manner as the BFS and DFS in the previous lesson: the sole argument is an object of the class Problem and the function should return a list of actions to achieve a goal state from the initial state.\n",
        "If it is impossible to reach the goal, return `None`.\n",
        "Count the number of states visited during the search and print in out before returning from the function, it will be useful later on to compare different heuristics."
      ]
    },
    {
      "cell_type": "code",
      "execution_count": 38,
      "metadata": {
        "id": "-TQEJ83ZSZ07"
      },
      "outputs": [],
      "source": [
        "import queue as q\n",
        "import math\n",
        "def astar(problem: Problem):\n",
        "    visited = set()\n",
        "    queue = q.PriorityQueue()\n",
        "    state = problem.initial_state\n",
        "    queue.put((1, state, (), 0))\n",
        "    while True:\n",
        "      prio, temp_state, path, cost = queue.get()\n",
        "\n",
        "      if problem.is_goal(temp_state):\n",
        "        print(len(visited), \"Visited states\")\n",
        "        return list(path)\n",
        "\n",
        "      possible_moves = problem.available_actions(temp_state)\n",
        "      for move in possible_moves:\n",
        "        future_state = problem.do_action(temp_state, move)\n",
        "        if future_state not in visited:\n",
        "          visited.add(future_state)\n",
        "          state_cost = problem.action_cost(temp_state, move) + cost\n",
        "          heuristic = problem.heuristic(temp_state)\n",
        "          temp_path = list(path) + [move]\n",
        "          queue.put((state_cost + heuristic, future_state, tuple(temp_path), state_cost))\n",
        "    return print(\"Error, Couldn't find the solution leading to goal state\")"
      ]
    },
    {
      "cell_type": "markdown",
      "metadata": {
        "id": "6QuMH7DBSZ08"
      },
      "source": [
        "Now lets test your code in the vacuum world!"
      ]
    },
    {
      "cell_type": "code",
      "execution_count": 39,
      "metadata": {
        "colab": {
          "base_uri": "https://localhost:8080/"
        },
        "id": "lNbUusR4SZ09",
        "outputId": "05515d40-73f9-4005-81ef-682f070fc816"
      },
      "outputs": [
        {
          "name": "stdout",
          "output_type": "stream",
          "text": [
            "6 Visited states\n"
          ]
        },
        {
          "data": {
            "text/plain": [
              "['Suck', 'Right', 'Suck']"
            ]
          },
          "execution_count": 39,
          "metadata": {},
          "output_type": "execute_result"
        }
      ],
      "source": [
        "astar(VacuumProblem())"
      ]
    },
    {
      "cell_type": "markdown",
      "metadata": {
        "id": "V9k5WiG9SZ0-"
      },
      "source": [
        "## Task 2: Variants of the vacuum world\n",
        "\n",
        "Now lets consider a different take on the vacuum world in which the heuristic is not admissible and increases as the number of dirty fields decreases."
      ]
    },
    {
      "cell_type": "code",
      "execution_count": 40,
      "metadata": {
        "colab": {
          "base_uri": "https://localhost:8080/"
        },
        "id": "mLnTmqLsSZ0_",
        "outputId": "91c8c3b3-3018-4845-85d1-1cf773b88e02"
      },
      "outputs": [
        {
          "name": "stdout",
          "output_type": "stream",
          "text": [
            "8 Visited states\n"
          ]
        },
        {
          "data": {
            "text/plain": [
              "['Suck', 'Right', 'Suck']"
            ]
          },
          "execution_count": 40,
          "metadata": {},
          "output_type": "execute_result"
        }
      ],
      "source": [
        "class VacuumProblem1(VacuumProblem):\n",
        "    def action_cost(self, state, action):\n",
        "        return 1\n",
        "    \n",
        "    def heuristic(self, state):\n",
        "        return len(state[1]) - sum(state[1])\n",
        "    \n",
        "astar(VacuumProblem1())"
      ]
    },
    {
      "cell_type": "markdown",
      "metadata": {
        "id": "f8gGA4odSZ0_"
      },
      "source": [
        "And another in which heuristic grossly overestimates the cost."
      ]
    },
    {
      "cell_type": "code",
      "execution_count": 41,
      "metadata": {
        "colab": {
          "base_uri": "https://localhost:8080/"
        },
        "id": "dirLmlfySZ1A",
        "outputId": "8938992b-0dd9-434b-bcb8-446118b60c02"
      },
      "outputs": [
        {
          "name": "stdout",
          "output_type": "stream",
          "text": [
            "5 Visited states\n"
          ]
        },
        {
          "data": {
            "text/plain": [
              "['Suck', 'Right', 'Suck']"
            ]
          },
          "execution_count": 41,
          "metadata": {},
          "output_type": "execute_result"
        }
      ],
      "source": [
        "class VacuumProblem2(VacuumProblem):\n",
        "    def action_cost(self, state, action):\n",
        "        return 1\n",
        "    \n",
        "    def heuristic(self, state):\n",
        "        return 10 * sum(state[1])\n",
        "    \n",
        "astar(VacuumProblem2())"
      ]
    },
    {
      "cell_type": "markdown",
      "metadata": {
        "id": "A5oenkNZSZ1A"
      },
      "source": [
        "**Which of the three heuristic functions (`VacuumProblem`, `VacuumProblem1`, `VacuumProblem2`) is the best? Is it the expected answer given the properties of the heuristics? If not, explain why an unorthodox approach works better.**"
      ]
    },
    {
      "cell_type": "markdown",
      "metadata": {
        "id": "M3n6k15gSZ1A"
      },
      "source": [
        "The Heuristic3 (VacuumProblem2) seems to be working the best because for this problem sucking is always an improvment and in this way the algorithm prioritizes sucking dirty cells which makes it work better than the other 2 on such a small instance"
      ]
    },
    {
      "cell_type": "markdown",
      "metadata": {
        "id": "yBrXYuJHSZ1B"
      },
      "source": [
        "## Task 3: 8-puzzle problem\n",
        "\n",
        "Recall the 8-puzzle problem from the previous lesson. Reuse your code and implement an extended version assuming that each action costs 1. Propose 3 (at least) admissible heuristics. This time don't change the initial state, your solution should be capable enough to solve this.\n",
        "\n",
        "![](aima-images/fig3_4.png)"
      ]
    },
    {
      "cell_type": "code",
      "execution_count": 42,
      "metadata": {
        "id": "SqQMuHepSZ1B"
      },
      "outputs": [],
      "source": [
        "class PuzzleProblem(Problem):\n",
        "    @property\n",
        "    def initial_state(self):\n",
        "        ...\n",
        "        return ((1, 1), ((7, 2, 4), (5, 0, 6), (8, 3, 1)))\n",
        "        \n",
        "    def available_actions(self, state):\n",
        "        actions = []\n",
        "        zero_y = state[0][0]\n",
        "        zero_x = state[0][1]\n",
        "        if zero_y + 1 <= 2:\n",
        "            actions.append(\"Move down\")\n",
        "        if zero_y - 1 >= 0:\n",
        "            actions.append(\"Move up\")\n",
        "        if zero_x + 1 <= 2:\n",
        "            actions.append(\"Move right\")\n",
        "        if zero_x - 1 >= 0:\n",
        "            actions.append(\"Move left\")\n",
        "\n",
        "        return actions\n",
        "        \n",
        "    def do_action(self, state, action):\n",
        "        zero_y = state[0][0]\n",
        "        zero_x = state[0][1]\n",
        "        board = [list(i) for i in state[1]]\n",
        "        if action == \"Move down\":\n",
        "            board[zero_y + 1][zero_x], board[zero_y][zero_x] = board[zero_y][zero_x], board[zero_y + 1][zero_x]\n",
        "            zero_y = zero_y + 1\n",
        "        if action == \"Move up\":\n",
        "            board[zero_y - 1][zero_x], board[zero_y][zero_x] = board[zero_y][zero_x], board[zero_y - 1][zero_x]\n",
        "            zero_y = zero_y - 1\n",
        "        if action == \"Move right\":\n",
        "            board[zero_y][zero_x + 1], board[zero_y][zero_x] = board[zero_y][zero_x], board[zero_y][zero_x + 1]\n",
        "            zero_x = zero_x + 1\n",
        "        if action == \"Move left\":\n",
        "            board[zero_y][zero_x - 1], board[zero_y][zero_x] = board[zero_y][zero_x], board[zero_y][zero_x - 1]\n",
        "            zero_x = zero_x - 1\n",
        "        new_state = ((zero_y, zero_x), tuple(tuple(i) for i in board))\n",
        "\n",
        "        ...\n",
        "        return new_state\n",
        "    \n",
        "    def is_goal(self, state) -> bool:\n",
        "        return state[1] == ((0, 1, 2), (3, 4, 5), (6, 7, 8))\n",
        "        \n",
        "    def action_cost(self, state, action) -> float:\n",
        "        return 1\n",
        "\n",
        "    def heuristic(self, state) -> float:\n",
        "        return 0"
      ]
    },
    {
      "cell_type": "markdown",
      "metadata": {
        "id": "aQIRQ5jDSZ1B"
      },
      "source": [
        "**Prove that this heuristic is admissible.**"
      ]
    },
    {
      "cell_type": "markdown",
      "metadata": {
        "id": "_MMDkVBaSZ1B"
      },
      "source": [
        "0 can never overestimate because even if the initial state is a goal state then it doesnt need less than 0 moves. Therefore even if the state is optimal 0 doesnt overestime then it will not overestimate in suboptimal states which means that 0 as a heuristic is admissble."
      ]
    },
    {
      "cell_type": "code",
      "execution_count": 43,
      "metadata": {
        "id": "r28e1m-_SZ1C"
      },
      "outputs": [],
      "source": [
        "class PuzzleProblem1(PuzzleProblem):\n",
        "    def heuristic(self, state) -> float:     \n",
        "      #number of misplaced tiles\n",
        "      goal = [[0, 1, 2], [3, 4, 5], [6, 7, 8]]\n",
        "      misplacedTiles = 0\n",
        "      for i in range(3):\n",
        "        for j in range(3):\n",
        "          if state[1][i][j] != goal[i][j] and state[1][i][j] != 0:\n",
        "            misplacedTiles = misplacedTiles + 1\n",
        "      return misplacedTiles"
      ]
    },
    {
      "cell_type": "markdown",
      "metadata": {
        "id": "rHfADZP5SZ1C"
      },
      "source": [
        "**Prove that this heuristic is admissible.**"
      ]
    },
    {
      "cell_type": "markdown",
      "metadata": {
        "id": "EGTwO_31SZ1C"
      },
      "source": [
        "Number of misplaced tiles cannot ever overestimate either because if a tile is not in the correct position it needs at least 1 move to get to the correct place and since i don't count \"0\" tile being an actual tile then with every action move only 1 tile by only 1 place and thus it cannot overestimate."
      ]
    },
    {
      "cell_type": "code",
      "execution_count": 44,
      "metadata": {
        "id": "_j5ALP2ZSZ1C"
      },
      "outputs": [],
      "source": [
        "class PuzzleProblem2(PuzzleProblem):\n",
        "    def heuristic(self, state) -> float:\n",
        "      #sum of Euclidean distances of each tile from its goal position\n",
        "      goal = [0, 1, 2, 3, 4, 5, 6, 7, 8]\n",
        "      euclideanSum = 0\n",
        "      for i in range(3):\n",
        "        for j in range(3):\n",
        "          if state[1][i][j] != 0:\n",
        "            euclideanSum += math.sqrt((i - goal.index(state[1][i][j])//3)**2 + (j - goal.index(state[1][i][j])%3)**2)\n",
        "      return euclideanSum\n",
        "      ..."
      ]
    },
    {
      "cell_type": "markdown",
      "metadata": {
        "id": "qBfJ_FGbSZ1D"
      },
      "source": [
        "**Prove that this heuristic is admissible.**"
      ]
    },
    {
      "cell_type": "markdown",
      "metadata": {
        "id": "rtr-YbzcSZ1D"
      },
      "source": [
        "Similarily to number of misplaced tiles, this heuristic also doesnt count \"0\" as an actual tile and therefore with each action only 1 tile moves closer to it's goal state and since euclidean distance is shorter or equal to the number of moves needed than this heuristic will also never overestimate and thus we can say it's admissible"
      ]
    },
    {
      "cell_type": "markdown",
      "metadata": {
        "id": "2s1TW-r8SZ1D"
      },
      "source": [
        "Run your heuristics on the given problem."
      ]
    },
    {
      "cell_type": "code",
      "execution_count": 45,
      "metadata": {
        "colab": {
          "base_uri": "https://localhost:8080/"
        },
        "id": "Qm0NB2MrSZ1D",
        "outputId": "e71af251-3565-43ae-bc24-ea644a5a0685"
      },
      "outputs": [
        {
          "name": "stdout",
          "output_type": "stream",
          "text": [
            "174082 Visited states\n",
            "26 Moves \n",
            " ['Move left', 'Move up', 'Move right', 'Move down', 'Move right', 'Move down', 'Move left', 'Move left', 'Move up', 'Move right', 'Move right', 'Move down', 'Move left', 'Move left', 'Move up', 'Move right', 'Move right', 'Move up', 'Move left', 'Move left', 'Move down', 'Move right', 'Move right', 'Move up', 'Move left', 'Move left']\n",
            "71495 Visited states\n",
            "26 Moves \n",
            " ['Move left', 'Move up', 'Move right', 'Move down', 'Move down', 'Move left', 'Move up', 'Move right', 'Move right', 'Move up', 'Move left', 'Move left', 'Move down', 'Move right', 'Move right', 'Move down', 'Move left', 'Move left', 'Move up', 'Move right', 'Move right', 'Move up', 'Move left', 'Move down', 'Move left', 'Move up']\n",
            "14320 Visited states\n",
            "26 Moves \n",
            " ['Move left', 'Move up', 'Move right', 'Move down', 'Move down', 'Move left', 'Move up', 'Move right', 'Move right', 'Move up', 'Move left', 'Move left', 'Move down', 'Move right', 'Move right', 'Move down', 'Move left', 'Move left', 'Move up', 'Move right', 'Move right', 'Move up', 'Move left', 'Move down', 'Move left', 'Move up']\n",
            "Is plan0==plan1? False\n",
            "Is plan0==plan2? False\n",
            "Is plan1==plan2? True\n"
          ]
        }
      ],
      "source": [
        "plan0 = astar(PuzzleProblem())\n",
        "print(len(plan0), \"Moves \\n\", plan0)\n",
        "plan1 = astar(PuzzleProblem1())\n",
        "print(len(plan1), \"Moves \\n\", plan1)\n",
        "plan2 = astar(PuzzleProblem2())\n",
        "print(len(plan2), \"Moves \\n\", plan2)\n",
        "\n",
        "print(\"Is plan0==plan1?\", plan0 == plan1)\n",
        "print(\"Is plan0==plan2?\", plan0 == plan2)\n",
        "print(\"Is plan1==plan2?\", plan1 == plan2)"
      ]
    },
    {
      "cell_type": "markdown",
      "metadata": {
        "id": "lulc6ImNSZ1D"
      },
      "source": [
        "**Which of the heuristics is the best for this task? Why is that?**"
      ]
    },
    {
      "cell_type": "markdown",
      "metadata": {
        "id": "iR5WuIJwSZ1E"
      },
      "source": [
        "The heuristic which sums the euclidean distances of tiles from their goal states seems to work the best because it gives the most information without overestimating/losing admissibilty."
      ]
    },
    {
      "cell_type": "markdown",
      "metadata": {
        "id": "-z5uW6EfSZ1E"
      },
      "source": [
        "------------\n",
        "The pictures and the description of 8-puzzle are from \"Artificial Intelligence: A Modern Approach\" 3rd ed."
      ]
    }
  ],
  "metadata": {
    "colab": {
      "collapsed_sections": [],
      "provenance": []
    },
    "kernelspec": {
      "display_name": "Python 3",
      "language": "python",
      "name": "python3"
    },
    "language_info": {
      "codemirror_mode": {
        "name": "ipython",
        "version": 3
      },
      "file_extension": ".py",
      "mimetype": "text/x-python",
      "name": "python",
      "nbconvert_exporter": "python",
      "pygments_lexer": "ipython3",
      "version": "3.7.3"
    }
  },
  "nbformat": 4,
  "nbformat_minor": 0
}
