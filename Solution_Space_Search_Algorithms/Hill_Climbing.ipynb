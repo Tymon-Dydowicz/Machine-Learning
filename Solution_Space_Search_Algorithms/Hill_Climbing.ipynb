{
  "cells": [
    {
      "cell_type": "markdown",
      "metadata": {
        "id": "Wz2HB3XgCgFE"
      },
      "source": [
        "# Local search"
      ]
    },
    {
      "cell_type": "markdown",
      "metadata": {
        "id": "tM9l_pnwCgFI"
      },
      "source": [
        "During the previous classes we were concerned with finding a sequence of actions (a plan) to reach one of the goal states from a predefined initial state. In a sense, we were more interested in the *journey* rather than in the *destination* itself: our goal was to transform the initial state to the goal state, not to construct the goal state from scratch. Local search is also different from tree/graph search algorithms like A*: it assumes that all intermediate states are acceptable, but they differ in their quality and the goal is to find the best solution."
      ]
    },
    {
      "cell_type": "markdown",
      "metadata": {
        "id": "S7jYHyGtCgFJ"
      },
      "source": [
        "We will reuse the definition of the class `Problem` from earlier, but extend it with a new function: `cost`, returning a number representing the cost of the state given as its argument `state`. We want to minimize the cost, so the lower the number the better the state. We make no assumptions about the cost being non-negative, i.e., there may be states with a negative cost (i.e., a gain) - such an approach enables us to consider both maximization and minimization problems within a single framework. We also replace the property `intial_state` with the funtion `random_state` which is supposed to return a randomly generated state for the problem. Finally, we remove `is_goal`, as there may be no clear goal definition."
      ]
    },
    {
      "cell_type": "code",
      "execution_count": 1,
      "metadata": {
        "id": "6fGEyiAtCgFK"
      },
      "outputs": [],
      "source": [
        "class Problem:\n",
        "    def random_state(self):\n",
        "        ...\n",
        "        \n",
        "    def available_actions(self, state):\n",
        "        ...        \n",
        "        \n",
        "    def do_action(self, state, action):\n",
        "        ...\n",
        "        return new_state\n",
        "        \n",
        "    def cost(self, state) -> float:\n",
        "        ..."
      ]
    },
    {
      "cell_type": "markdown",
      "metadata": {
        "id": "11RHG23kCgFO"
      },
      "source": [
        "Throughout this assignment we will be using a pseudo-random number generator. A pseudo-random number generator is an algorithm that, given some initial state (usually called *seed*) returns a sequence of numbers. The algorithm itself is deterministic, meaning that the same initial state = the same sequence of numbers. To exploit this property, in the following cell we fix the seed to be 42 - this way every time you restart the notebook and execute it you will get the same results."
      ]
    },
    {
      "cell_type": "code",
      "execution_count": 2,
      "metadata": {
        "id": "zq7xhyjdCgFP"
      },
      "outputs": [],
      "source": [
        "import copy\n",
        "import numpy as np\n",
        "import random\n",
        "random.seed(42)"
      ]
    },
    {
      "cell_type": "markdown",
      "metadata": {
        "id": "WhA4vlOQCgFQ"
      },
      "source": [
        "As an example, we will consider the problem of finding a minimum of some complex function of 2 variables within the domain of integer from the set $\\{-10, -9, \\ldots, 9, 10\\}$. Observe that, in general, moving from the real domain to the integer domain makes the usual optimization algorithms unsuitable. "
      ]
    },
    {
      "cell_type": "code",
      "execution_count": 3,
      "metadata": {
        "id": "HyFBdihKCgFR"
      },
      "outputs": [],
      "source": [
        "class FunctionOptimizationProblem:\n",
        "    def random_state(self):\n",
        "        x = random.randrange(-10, 11)\n",
        "        y = random.randrange(-10, 11)\n",
        "        return (x, y)\n",
        "    \n",
        "    def available_actions(self, state):\n",
        "        x, y = state\n",
        "        actions = []\n",
        "        if x > -10:\n",
        "            actions += [(-1, 0)]\n",
        "        if y > -10:\n",
        "            actions += [(0, -1)]\n",
        "        if x < 10:\n",
        "            actions += [(1, 0)]\n",
        "        if y < 10:\n",
        "            actions += [(0, 1)]\n",
        "        return actions\n",
        "    \n",
        "    def do_action(self, state, action):\n",
        "        x, y = state\n",
        "        dx, dy = action\n",
        "        return (x+dx, y+dy)\n",
        "    \n",
        "    def cost(self, state) -> float:\n",
        "        x, y = state\n",
        "        cost = -5*x-8*y\n",
        "        if x+y>6:\n",
        "            cost += 10000\n",
        "        if 5*x+9*y>45:\n",
        "            cost += 10000\n",
        "        if x < 0:\n",
        "            cost += 10000\n",
        "        if y < 0:\n",
        "            cost += 10000\n",
        "        return cost"
      ]
    },
    {
      "cell_type": "markdown",
      "metadata": {
        "id": "Wuw9zP4aCgFS"
      },
      "source": [
        "Let's test it a bit. We start by creating the object representing the problem and generating two random states. Observe that they are different."
      ]
    },
    {
      "cell_type": "code",
      "execution_count": 4,
      "metadata": {
        "colab": {
          "base_uri": "https://localhost:8080/"
        },
        "id": "mbp9AsqqCgFT",
        "outputId": "32b66967-65dc-4bf7-b6c2-09038b5ffc06"
      },
      "outputs": [
        {
          "name": "stdout",
          "output_type": "stream",
          "text": [
            "Random state 1 (10, -7)\n",
            "Random state 2 (-10, -2)\n"
          ]
        }
      ],
      "source": [
        "problem = FunctionOptimizationProblem()\n",
        "print(\"Random state 1\", problem.random_state())\n",
        "print(\"Random state 2\", problem.random_state())"
      ]
    },
    {
      "cell_type": "markdown",
      "metadata": {
        "id": "e2QSiKGXCgFU"
      },
      "source": [
        "Now let's compute the cost of few different states"
      ]
    },
    {
      "cell_type": "code",
      "execution_count": 5,
      "metadata": {
        "colab": {
          "base_uri": "https://localhost:8080/"
        },
        "id": "uRDO_W7PCgFV",
        "outputId": "d661f7d9-c62b-4c8d-c528-a79c9030c99c"
      },
      "outputs": [
        {
          "name": "stdout",
          "output_type": "stream",
          "text": [
            "The cost of an acceptable state (3, 3): -39\n",
            "The cost of a terrible state (3, 7): 19929\n",
            "The cost of an optimal solution (0, 5): -40\n"
          ]
        }
      ],
      "source": [
        "print(\"The cost of an acceptable state (3, 3):\", problem.cost((3,3)))\n",
        "print(\"The cost of a terrible state (3, 7):\", problem.cost((3,7)))\n",
        "print(\"The cost of an optimal solution (0, 5):\", problem.cost((0,5)))"
      ]
    },
    {
      "cell_type": "markdown",
      "metadata": {
        "id": "V57E9ukfCgFW"
      },
      "source": [
        "## Task 1: Implement hill climbing"
      ]
    },
    {
      "cell_type": "markdown",
      "metadata": {
        "id": "Eag0Gt6ZCgFW"
      },
      "source": [
        "Complete the following cell of code with an implemention of the hill climbing algorithm.\n",
        "The algorithm starts in the initial state of the given search problem `problem` and loops forever.\n",
        "During each repetition of the loop it \"looks around\" and tests all the states achievable through actions available in the current state.\n",
        "If none of them is better than the current state (i.e., the algorithm reached a peak or a plateau according to the `cost` function), it breaks the loop and returns the reached state.\n",
        "Otherwise, it goes to the best of these neighbouring states and computes the next repetition of the loop."
      ]
    },
    {
      "cell_type": "code",
      "execution_count": 6,
      "metadata": {
        "id": "0t-V8iEcCgFX"
      },
      "outputs": [],
      "source": [
        "def hill_climbing(problem):\n",
        "  state = problem.random_state()\n",
        "  cost = problem.cost(state)\n",
        "  \n",
        "  while True:\n",
        "    possibleMoves = problem.available_actions(state)\n",
        "    betterNeigh = 0\n",
        "    memState = state\n",
        "    memCost = cost\n",
        "    for move in possibleMoves:\n",
        "      tempState = problem.do_action(state, move)\n",
        "      tempCost = problem.cost(tempState)\n",
        "      if tempCost < cost:\n",
        "        betterNeigh += 1\n",
        "        memCost = tempCost\n",
        "        memState = tempState\n",
        "    state = memState\n",
        "    cost = memCost\n",
        "    if betterNeigh == 0:\n",
        "      return state\n",
        "\n"
      ]
    },
    {
      "cell_type": "markdown",
      "metadata": {
        "id": "E9k2FCACCgFY"
      },
      "source": [
        "Lets test your implementation. Try running the cell multiple times. Observe that on some runs it is capable of finding the optimal solution. On others, the result is terrible."
      ]
    },
    {
      "cell_type": "code",
      "execution_count": 7,
      "metadata": {
        "colab": {
          "base_uri": "https://localhost:8080/"
        },
        "id": "HKJCo6-GCgFY",
        "outputId": "6e92beaa-3147-47b4-b2f1-ba7a1f71364d",
        "scrolled": true,
        "tags": []
      },
      "outputs": [
        {
          "name": "stdout",
          "output_type": "stream",
          "text": [
            "Solution (-2, 6)\n",
            "Cost 9962\n"
          ]
        }
      ],
      "source": [
        "problem = FunctionOptimizationProblem()\n",
        "solution = hill_climbing(problem)\n",
        "print(\"Solution\", solution)\n",
        "print(\"Cost\", problem.cost(solution))"
      ]
    },
    {
      "cell_type": "markdown",
      "metadata": {
        "id": "BwmsnidoCgFZ"
      },
      "source": [
        "## Task 2: Implement random-restarts hill-climbing"
      ]
    },
    {
      "cell_type": "markdown",
      "metadata": {
        "id": "jRD_kU5yCgFZ"
      },
      "source": [
        "Complete the cell below to implement random-restarts hill-climbing. Randomization is already taken care of in the problem, so basically your task is to call `hill_climbing` number of times given by the argument `n` and return the best solution."
      ]
    },
    {
      "cell_type": "code",
      "execution_count": 8,
      "metadata": {
        "id": "s97Gx6hbCgFa"
      },
      "outputs": [],
      "source": [
        "def random_restarts_hill_climbing(problem: Problem, n: int):\n",
        "  solution = []\n",
        "  for i in range(n):\n",
        "    solution.append(hill_climbing(problem))\n",
        "  return min(solution, key =lambda state: problem.cost(state))\n",
        "  ..."
      ]
    },
    {
      "cell_type": "code",
      "execution_count": 9,
      "metadata": {
        "colab": {
          "base_uri": "https://localhost:8080/"
        },
        "id": "R7IjTQRXCgFb",
        "outputId": "88fae5a7-b541-4be2-ebe2-db9c221021ea"
      },
      "outputs": [
        {
          "name": "stdout",
          "output_type": "stream",
          "text": [
            "Solution (0, 5)\n",
            "Cost -40\n"
          ]
        }
      ],
      "source": [
        "problem = FunctionOptimizationProblem()\n",
        "solution = random_restarts_hill_climbing(problem, 100)\n",
        "print(\"Solution\", solution)\n",
        "print(\"Cost\", problem.cost(solution))"
      ]
    },
    {
      "cell_type": "markdown",
      "metadata": {
        "id": "_qRiy9fbCgFb"
      },
      "source": [
        "## Task 3: The n-queens"
      ]
    },
    {
      "cell_type": "markdown",
      "metadata": {
        "id": "6p3OP4_KCgFc"
      },
      "source": [
        "Complete the following cell of code with the implementation of the n-queens problem. The gist of the problem is to place $n$ queens on a $n \\times n$ cheesboard so that no queen attacks another. In other words: there is at most one queen in every row, column and diagonal of the cheesboard. The value $n$ is given as the constructor parameter and available in the class as `self.n`."
      ]
    },
    {
      "cell_type": "code",
      "execution_count": 10,
      "metadata": {
        "id": "5W8EuJNbCgFd"
      },
      "outputs": [],
      "source": [
        "class NQueens(Problem):\n",
        "    def __init__(self, n):\n",
        "        self.n = n\n",
        "        self.sample = []\n",
        "        for i in range(self.n):\n",
        "          for j in range(self.n):\n",
        "            self.sample.append((i,j))\n",
        "        \n",
        "    def draw_board(self, state):\n",
        "      board = [['O' for _ in range(self.n)] for _ in range(self.n)]\n",
        "      for position in state:\n",
        "        board[position[0]][position[1]] = 'X'\n",
        "      print(np.matrix(board))\n",
        "      \n",
        "    def random_state(self):\n",
        "      posOfQueens = random.sample(self.sample, self.n)\n",
        "      return posOfQueens\n",
        "        \n",
        "    def available_actions(self, state):\n",
        "      moves = []\n",
        "      emptyTiles = list(set(self.sample) - set(state))\n",
        "      for queen in state:\n",
        "        for empty in emptyTiles:\n",
        "          moves.append((queen, empty))\n",
        "      return moves\n",
        "        \n",
        "    def do_action(self, state, action):\n",
        "      new_state = copy.deepcopy(state)\n",
        "      queen, empty = action\n",
        "      new_state[new_state.index(queen)] = empty\n",
        "      return new_state\n",
        "        \n",
        "    def cost(self, state) -> float:\n",
        "      cost = 0\n",
        "      for queen1 in state:\n",
        "        for queen2 in state:\n",
        "          if (queen1[0] == queen2[0] or queen1[1] == queen2[1] or abs(queen1[0] - queen2[0]) == abs(queen1[1] - queen2[1])) and queen1 != queen2:\n",
        "            cost += 1\n",
        "      return cost"
      ]
    },
    {
      "cell_type": "markdown",
      "metadata": {
        "id": "q72qqUGJCgFe"
      },
      "source": [
        "Let's test your implementations. If everything went well, the following cell should terminate after a few seconds and yield a perfect configuration of queens on a $8 \\times 8$ board."
      ]
    },
    {
      "cell_type": "code",
      "execution_count": 11,
      "metadata": {
        "colab": {
          "base_uri": "https://localhost:8080/"
        },
        "id": "McAYzDuWCgFe",
        "outputId": "e1b0fe76-0613-403b-b233-790a5dbb2012"
      },
      "outputs": [
        {
          "name": "stdout",
          "output_type": "stream",
          "text": [
            "[['O' 'O' 'O' 'O' 'O' 'O' 'X' 'O']\n",
            " ['O' 'O' 'O' 'O' 'X' 'O' 'O' 'O']\n",
            " ['O' 'O' 'X' 'O' 'O' 'O' 'O' 'O']\n",
            " ['X' 'O' 'O' 'O' 'O' 'O' 'O' 'O']\n",
            " ['O' 'O' 'O' 'O' 'O' 'X' 'O' 'O']\n",
            " ['O' 'O' 'O' 'O' 'O' 'O' 'O' 'X']\n",
            " ['O' 'X' 'O' 'O' 'O' 'O' 'O' 'O']\n",
            " ['O' 'O' 'O' 'X' 'O' 'O' 'O' 'O']]\n",
            "Cost 0\n",
            "Solution [(7, 3), (6, 1), (1, 4), (2, 2), (0, 6), (3, 0), (4, 5), (5, 7)]\n"
          ]
        }
      ],
      "source": [
        "problem = NQueens(8)\n",
        "solution = random_restarts_hill_climbing(problem, 100)\n",
        "problem.draw_board(solution)\n",
        "print(\"Cost\", problem.cost(solution))\n",
        "print(\"Solution\", solution)"
      ]
    }
  ],
  "metadata": {
    "colab": {
      "collapsed_sections": [],
      "provenance": []
    },
    "kernelspec": {
      "display_name": "Python 3.11.0 64-bit",
      "language": "python",
      "name": "python3"
    },
    "language_info": {
      "codemirror_mode": {
        "name": "ipython",
        "version": 3
      },
      "file_extension": ".py",
      "mimetype": "text/x-python",
      "name": "python",
      "nbconvert_exporter": "python",
      "pygments_lexer": "ipython3",
      "version": "3.10.8"
    },
    "vscode": {
      "interpreter": {
        "hash": "c9b9c52f097f58104c4be7fba1ff825a9d71bbcc63f5df2cdf010a1be35fe908"
      }
    }
  },
  "nbformat": 4,
  "nbformat_minor": 0
}
