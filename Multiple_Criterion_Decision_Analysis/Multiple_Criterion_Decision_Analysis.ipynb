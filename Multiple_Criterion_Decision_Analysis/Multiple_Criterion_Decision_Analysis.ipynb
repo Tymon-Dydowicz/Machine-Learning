{
  "cells": [
    {
      "cell_type": "markdown",
      "metadata": {
        "id": "3asQ0FHDYs4M"
      },
      "source": [
        "# DECISION AIDING"
      ]
    },
    {
      "cell_type": "code",
      "execution_count": 265,
      "metadata": {
        "id": "F_kTUK7FYs4U"
      },
      "outputs": [],
      "source": [
        "%matplotlib inline\n",
        "import pandas as pd\n",
        "import numpy as np\n",
        "import common as cm\n",
        "import matplotlib.pyplot as plt"
      ]
    },
    {
      "cell_type": "markdown",
      "metadata": {
        "id": "SG0ug4AyYs4X"
      },
      "source": [
        "This exercise consists of 3 parts. Finish the first part to get a mark of 3.0. The first two parts to get 4.0. Finish all exercies to get 5.0."
      ]
    },
    {
      "cell_type": "markdown",
      "metadata": {
        "id": "yd3W3T9uYs4Z"
      },
      "source": [
        "# Part 1: Concordance"
      ]
    },
    {
      "cell_type": "markdown",
      "metadata": {
        "id": "U5LUGlZMYs4Z"
      },
      "source": [
        "Given are the following modes of transport: bus, bike, car, train. Each mode is characterized by 2 cost-type criteria: price and time; and 2 gain-type criteria: comfort and reliability. "
      ]
    },
    {
      "cell_type": "markdown",
      "metadata": {
        "id": "1MSwn3h_Ys4a"
      },
      "source": [
        "Mode of transport | Time | Comfort | Price | Reliability\n",
        "--- | --- | --- | --- | ---\n",
        " **bus**  | 6 | 3  | 6 | 2\n",
        " **bike** | 8 | 2  | 2 | 8\n",
        " **car**  | 2 | 10 | 9 | 7\n",
        " **train**| 3 | 5  | 5 | 6\n",
        " **by foot**| 10 | 2  | 0 | 5"
      ]
    },
    {
      "cell_type": "code",
      "execution_count": 266,
      "metadata": {
        "colab": {
          "base_uri": "https://localhost:8080/",
          "height": 206
        },
        "id": "CYCrtw7uYs4b",
        "outputId": "a59cb250-3aed-40b7-b15f-bb7f438cfef8"
      },
      "outputs": [
        {
          "data": {
            "text/html": [
              "\n",
              "  <div id=\"df-451930ee-5191-4446-8bfb-f3059f88b97e\">\n",
              "    <div class=\"colab-df-container\">\n",
              "      <div>\n",
              "<style scoped>\n",
              "    .dataframe tbody tr th:only-of-type {\n",
              "        vertical-align: middle;\n",
              "    }\n",
              "\n",
              "    .dataframe tbody tr th {\n",
              "        vertical-align: top;\n",
              "    }\n",
              "\n",
              "    .dataframe thead th {\n",
              "        text-align: right;\n",
              "    }\n",
              "</style>\n",
              "<table border=\"1\" class=\"dataframe\">\n",
              "  <thead>\n",
              "    <tr style=\"text-align: right;\">\n",
              "      <th></th>\n",
              "      <th>mode</th>\n",
              "      <th>time</th>\n",
              "      <th>comfort</th>\n",
              "      <th>price</th>\n",
              "      <th>reliability</th>\n",
              "    </tr>\n",
              "  </thead>\n",
              "  <tbody>\n",
              "    <tr>\n",
              "      <th>0</th>\n",
              "      <td>bus</td>\n",
              "      <td>6</td>\n",
              "      <td>3</td>\n",
              "      <td>6</td>\n",
              "      <td>2</td>\n",
              "    </tr>\n",
              "    <tr>\n",
              "      <th>1</th>\n",
              "      <td>bike</td>\n",
              "      <td>8</td>\n",
              "      <td>2</td>\n",
              "      <td>2</td>\n",
              "      <td>8</td>\n",
              "    </tr>\n",
              "    <tr>\n",
              "      <th>2</th>\n",
              "      <td>car</td>\n",
              "      <td>2</td>\n",
              "      <td>10</td>\n",
              "      <td>9</td>\n",
              "      <td>7</td>\n",
              "    </tr>\n",
              "    <tr>\n",
              "      <th>3</th>\n",
              "      <td>train</td>\n",
              "      <td>3</td>\n",
              "      <td>5</td>\n",
              "      <td>5</td>\n",
              "      <td>6</td>\n",
              "    </tr>\n",
              "    <tr>\n",
              "      <th>4</th>\n",
              "      <td>foot</td>\n",
              "      <td>10</td>\n",
              "      <td>2</td>\n",
              "      <td>0</td>\n",
              "      <td>5</td>\n",
              "    </tr>\n",
              "  </tbody>\n",
              "</table>\n",
              "</div>\n",
              "      <button class=\"colab-df-convert\" onclick=\"convertToInteractive('df-451930ee-5191-4446-8bfb-f3059f88b97e')\"\n",
              "              title=\"Convert this dataframe to an interactive table.\"\n",
              "              style=\"display:none;\">\n",
              "        \n",
              "  <svg xmlns=\"http://www.w3.org/2000/svg\" height=\"24px\"viewBox=\"0 0 24 24\"\n",
              "       width=\"24px\">\n",
              "    <path d=\"M0 0h24v24H0V0z\" fill=\"none\"/>\n",
              "    <path d=\"M18.56 5.44l.94 2.06.94-2.06 2.06-.94-2.06-.94-.94-2.06-.94 2.06-2.06.94zm-11 1L8.5 8.5l.94-2.06 2.06-.94-2.06-.94L8.5 2.5l-.94 2.06-2.06.94zm10 10l.94 2.06.94-2.06 2.06-.94-2.06-.94-.94-2.06-.94 2.06-2.06.94z\"/><path d=\"M17.41 7.96l-1.37-1.37c-.4-.4-.92-.59-1.43-.59-.52 0-1.04.2-1.43.59L10.3 9.45l-7.72 7.72c-.78.78-.78 2.05 0 2.83L4 21.41c.39.39.9.59 1.41.59.51 0 1.02-.2 1.41-.59l7.78-7.78 2.81-2.81c.8-.78.8-2.07 0-2.86zM5.41 20L4 18.59l7.72-7.72 1.47 1.35L5.41 20z\"/>\n",
              "  </svg>\n",
              "      </button>\n",
              "      \n",
              "  <style>\n",
              "    .colab-df-container {\n",
              "      display:flex;\n",
              "      flex-wrap:wrap;\n",
              "      gap: 12px;\n",
              "    }\n",
              "\n",
              "    .colab-df-convert {\n",
              "      background-color: #E8F0FE;\n",
              "      border: none;\n",
              "      border-radius: 50%;\n",
              "      cursor: pointer;\n",
              "      display: none;\n",
              "      fill: #1967D2;\n",
              "      height: 32px;\n",
              "      padding: 0 0 0 0;\n",
              "      width: 32px;\n",
              "    }\n",
              "\n",
              "    .colab-df-convert:hover {\n",
              "      background-color: #E2EBFA;\n",
              "      box-shadow: 0px 1px 2px rgba(60, 64, 67, 0.3), 0px 1px 3px 1px rgba(60, 64, 67, 0.15);\n",
              "      fill: #174EA6;\n",
              "    }\n",
              "\n",
              "    [theme=dark] .colab-df-convert {\n",
              "      background-color: #3B4455;\n",
              "      fill: #D2E3FC;\n",
              "    }\n",
              "\n",
              "    [theme=dark] .colab-df-convert:hover {\n",
              "      background-color: #434B5C;\n",
              "      box-shadow: 0px 1px 3px 1px rgba(0, 0, 0, 0.15);\n",
              "      filter: drop-shadow(0px 1px 2px rgba(0, 0, 0, 0.3));\n",
              "      fill: #FFFFFF;\n",
              "    }\n",
              "  </style>\n",
              "\n",
              "      <script>\n",
              "        const buttonEl =\n",
              "          document.querySelector('#df-451930ee-5191-4446-8bfb-f3059f88b97e button.colab-df-convert');\n",
              "        buttonEl.style.display =\n",
              "          google.colab.kernel.accessAllowed ? 'block' : 'none';\n",
              "\n",
              "        async function convertToInteractive(key) {\n",
              "          const element = document.querySelector('#df-451930ee-5191-4446-8bfb-f3059f88b97e');\n",
              "          const dataTable =\n",
              "            await google.colab.kernel.invokeFunction('convertToInteractive',\n",
              "                                                     [key], {});\n",
              "          if (!dataTable) return;\n",
              "\n",
              "          const docLinkHtml = 'Like what you see? Visit the ' +\n",
              "            '<a target=\"_blank\" href=https://colab.research.google.com/notebooks/data_table.ipynb>data table notebook</a>'\n",
              "            + ' to learn more about interactive tables.';\n",
              "          element.innerHTML = '';\n",
              "          dataTable['output_type'] = 'display_data';\n",
              "          await google.colab.output.renderOutput(dataTable, element);\n",
              "          const docLink = document.createElement('div');\n",
              "          docLink.innerHTML = docLinkHtml;\n",
              "          element.appendChild(docLink);\n",
              "        }\n",
              "      </script>\n",
              "    </div>\n",
              "  </div>\n",
              "  "
            ],
            "text/plain": [
              "    mode  time  comfort  price  reliability\n",
              "0    bus     6        3      6            2\n",
              "1   bike     8        2      2            8\n",
              "2    car     2       10      9            7\n",
              "3  train     3        5      5            6\n",
              "4   foot    10        2      0            5"
            ]
          },
          "execution_count": 266,
          "metadata": {},
          "output_type": "execute_result"
        }
      ],
      "source": [
        "data = {\n",
        "    'mode': ['bus', 'bike', 'car', 'train', 'foot'],\n",
        "    'time': [6, 8, 2, 3, 10],\n",
        "    'comfort': [3, 2, 10, 5, 2],\n",
        "    'price': [6, 2, 9, 5, 0],\n",
        "    'reliability': [2, 8, 7, 6, 5]\n",
        "}\n",
        "\n",
        "criteria = ['time', 'comfort', 'price', 'reliability']\n",
        "\n",
        "data = pd.DataFrame(data, columns=['mode', 'time', 'comfort', 'price', 'reliability'])\n",
        "data"
      ]
    },
    {
      "cell_type": "markdown",
      "metadata": {
        "id": "Rvj4bPV2Ys4d"
      },
      "source": [
        "1.2) Below are the parameters, i.e., threholds, criterion-type, and weights, for each criterion, "
      ]
    },
    {
      "cell_type": "code",
      "execution_count": 267,
      "metadata": {
        "colab": {
          "base_uri": "https://localhost:8080/",
          "height": 175
        },
        "id": "QjnVdIHqYs4f",
        "outputId": "6a1f4139-eb4f-4345-a667-397362eb21e6"
      },
      "outputs": [
        {
          "data": {
            "text/html": [
              "\n",
              "  <div id=\"df-9dd99d15-9880-4dde-88d5-2d55612ce0a1\">\n",
              "    <div class=\"colab-df-container\">\n",
              "      <div>\n",
              "<style scoped>\n",
              "    .dataframe tbody tr th:only-of-type {\n",
              "        vertical-align: middle;\n",
              "    }\n",
              "\n",
              "    .dataframe tbody tr th {\n",
              "        vertical-align: top;\n",
              "    }\n",
              "\n",
              "    .dataframe thead th {\n",
              "        text-align: right;\n",
              "    }\n",
              "</style>\n",
              "<table border=\"1\" class=\"dataframe\">\n",
              "  <thead>\n",
              "    <tr style=\"text-align: right;\">\n",
              "      <th></th>\n",
              "      <th>type</th>\n",
              "      <th>q</th>\n",
              "      <th>p</th>\n",
              "      <th>v</th>\n",
              "      <th>weight</th>\n",
              "    </tr>\n",
              "  </thead>\n",
              "  <tbody>\n",
              "    <tr>\n",
              "      <th>time</th>\n",
              "      <td>cost</td>\n",
              "      <td>1</td>\n",
              "      <td>2</td>\n",
              "      <td>4</td>\n",
              "      <td>4</td>\n",
              "    </tr>\n",
              "    <tr>\n",
              "      <th>comfort</th>\n",
              "      <td>gain</td>\n",
              "      <td>2</td>\n",
              "      <td>3</td>\n",
              "      <td>6</td>\n",
              "      <td>2</td>\n",
              "    </tr>\n",
              "    <tr>\n",
              "      <th>price</th>\n",
              "      <td>cost</td>\n",
              "      <td>1</td>\n",
              "      <td>3</td>\n",
              "      <td>5</td>\n",
              "      <td>3</td>\n",
              "    </tr>\n",
              "    <tr>\n",
              "      <th>reliability</th>\n",
              "      <td>gain</td>\n",
              "      <td>1.5</td>\n",
              "      <td>3</td>\n",
              "      <td>5</td>\n",
              "      <td>1</td>\n",
              "    </tr>\n",
              "  </tbody>\n",
              "</table>\n",
              "</div>\n",
              "      <button class=\"colab-df-convert\" onclick=\"convertToInteractive('df-9dd99d15-9880-4dde-88d5-2d55612ce0a1')\"\n",
              "              title=\"Convert this dataframe to an interactive table.\"\n",
              "              style=\"display:none;\">\n",
              "        \n",
              "  <svg xmlns=\"http://www.w3.org/2000/svg\" height=\"24px\"viewBox=\"0 0 24 24\"\n",
              "       width=\"24px\">\n",
              "    <path d=\"M0 0h24v24H0V0z\" fill=\"none\"/>\n",
              "    <path d=\"M18.56 5.44l.94 2.06.94-2.06 2.06-.94-2.06-.94-.94-2.06-.94 2.06-2.06.94zm-11 1L8.5 8.5l.94-2.06 2.06-.94-2.06-.94L8.5 2.5l-.94 2.06-2.06.94zm10 10l.94 2.06.94-2.06 2.06-.94-2.06-.94-.94-2.06-.94 2.06-2.06.94z\"/><path d=\"M17.41 7.96l-1.37-1.37c-.4-.4-.92-.59-1.43-.59-.52 0-1.04.2-1.43.59L10.3 9.45l-7.72 7.72c-.78.78-.78 2.05 0 2.83L4 21.41c.39.39.9.59 1.41.59.51 0 1.02-.2 1.41-.59l7.78-7.78 2.81-2.81c.8-.78.8-2.07 0-2.86zM5.41 20L4 18.59l7.72-7.72 1.47 1.35L5.41 20z\"/>\n",
              "  </svg>\n",
              "      </button>\n",
              "      \n",
              "  <style>\n",
              "    .colab-df-container {\n",
              "      display:flex;\n",
              "      flex-wrap:wrap;\n",
              "      gap: 12px;\n",
              "    }\n",
              "\n",
              "    .colab-df-convert {\n",
              "      background-color: #E8F0FE;\n",
              "      border: none;\n",
              "      border-radius: 50%;\n",
              "      cursor: pointer;\n",
              "      display: none;\n",
              "      fill: #1967D2;\n",
              "      height: 32px;\n",
              "      padding: 0 0 0 0;\n",
              "      width: 32px;\n",
              "    }\n",
              "\n",
              "    .colab-df-convert:hover {\n",
              "      background-color: #E2EBFA;\n",
              "      box-shadow: 0px 1px 2px rgba(60, 64, 67, 0.3), 0px 1px 3px 1px rgba(60, 64, 67, 0.15);\n",
              "      fill: #174EA6;\n",
              "    }\n",
              "\n",
              "    [theme=dark] .colab-df-convert {\n",
              "      background-color: #3B4455;\n",
              "      fill: #D2E3FC;\n",
              "    }\n",
              "\n",
              "    [theme=dark] .colab-df-convert:hover {\n",
              "      background-color: #434B5C;\n",
              "      box-shadow: 0px 1px 3px 1px rgba(0, 0, 0, 0.15);\n",
              "      filter: drop-shadow(0px 1px 2px rgba(0, 0, 0, 0.3));\n",
              "      fill: #FFFFFF;\n",
              "    }\n",
              "  </style>\n",
              "\n",
              "      <script>\n",
              "        const buttonEl =\n",
              "          document.querySelector('#df-9dd99d15-9880-4dde-88d5-2d55612ce0a1 button.colab-df-convert');\n",
              "        buttonEl.style.display =\n",
              "          google.colab.kernel.accessAllowed ? 'block' : 'none';\n",
              "\n",
              "        async function convertToInteractive(key) {\n",
              "          const element = document.querySelector('#df-9dd99d15-9880-4dde-88d5-2d55612ce0a1');\n",
              "          const dataTable =\n",
              "            await google.colab.kernel.invokeFunction('convertToInteractive',\n",
              "                                                     [key], {});\n",
              "          if (!dataTable) return;\n",
              "\n",
              "          const docLinkHtml = 'Like what you see? Visit the ' +\n",
              "            '<a target=\"_blank\" href=https://colab.research.google.com/notebooks/data_table.ipynb>data table notebook</a>'\n",
              "            + ' to learn more about interactive tables.';\n",
              "          element.innerHTML = '';\n",
              "          dataTable['output_type'] = 'display_data';\n",
              "          await google.colab.output.renderOutput(dataTable, element);\n",
              "          const docLink = document.createElement('div');\n",
              "          docLink.innerHTML = docLinkHtml;\n",
              "          element.appendChild(docLink);\n",
              "        }\n",
              "      </script>\n",
              "    </div>\n",
              "  </div>\n",
              "  "
            ],
            "text/plain": [
              "             type    q  p  v weight\n",
              "time         cost    1  2  4      4\n",
              "comfort      gain    2  3  6      2\n",
              "price        cost    1  3  5      3\n",
              "reliability  gain  1.5  3  5      1"
            ]
          },
          "execution_count": 267,
          "metadata": {},
          "output_type": "execute_result"
        }
      ],
      "source": [
        "parameters = {'time': {'weight': 4, 'q': 1.0, 'p': 2, 'v': 4, 'type': 'cost'},\n",
        " 'comfort': {'weight': 2, 'q': 2.0, 'p': 3, 'v': 6, 'type': 'gain'},\n",
        " 'price': {'weight': 3, 'q': 1.0, 'p': 3, 'v': 5, 'type': 'cost'},\n",
        " 'reliability': {'weight': 1, 'q': 1.5, 'p': 3, 'v': 5, 'type': 'gain'}}\n",
        "\n",
        "sum_weights = 10.\n",
        "\n",
        "pd.DataFrame(parameters, columns=['time', 'comfort', 'price','reliability']).reindex(['type', 'q', 'p', 'v', 'weight']).T"
      ]
    },
    {
      "cell_type": "markdown",
      "metadata": {
        "id": "0_spqNosYs4g"
      },
      "source": [
        "1.3) Finish the below function for calculating a marginal concordance for $i$-th criterion (gain type) $c_i(g_i(A),g_i(B))$ based on q and p tresholds. "
      ]
    },
    {
      "cell_type": "code",
      "execution_count": 268,
      "metadata": {
        "id": "vt_i6sx-Ys4h"
      },
      "outputs": [],
      "source": [
        "def getConcordanceCost(gA, gB, q, p):\n",
        "    return getConcordanceGain(gB, gA, q, p)\n",
        "\n",
        "def getConcordanceGain(gA, gB, q, p):\n",
        "    if gA - gB >= -q:\n",
        "      return 1\n",
        "    elif gA - gB <= -p:\n",
        "      return 0\n",
        "    else:\n",
        "      return (p - (gB - gA))/(p - q)"
      ]
    },
    {
      "cell_type": "markdown",
      "metadata": {
        "id": "ptba_C9eYs4i"
      },
      "source": [
        "1.4)  Calculate  comprehensive concordance  index  for  all  criteria  of  alternatives A and B. Remember that comprehensive concordance must be divided by the sum of weights (normalization).  "
      ]
    },
    {
      "cell_type": "code",
      "execution_count": 269,
      "metadata": {
        "id": "wDtsUKMhYs4i"
      },
      "outputs": [],
      "source": [
        "def getComprehensiveConcordance(A, B, criteria, parameters):\n",
        "    concordance = 0.0\n",
        "    sum_weights = 0.0\n",
        "    for criterion in criteria:\n",
        "      if parameters[criterion]['type'] == 'gain':\n",
        "        gain = getConcordanceGain(A[criterion], B[criterion], parameters[criterion]['q'], parameters[criterion]['p']) * parameters[criterion]['weight']\n",
        "        concordance += gain\n",
        "        sum_weights += parameters[criterion]['weight']\n",
        "      elif parameters[criterion]['type'] == 'cost':\n",
        "        cost = getConcordanceCost(A[criterion], B[criterion], parameters[criterion]['q'], parameters[criterion]['p']) * parameters[criterion]['weight']\n",
        "        concordance += cost\n",
        "        sum_weights += parameters[criterion]['weight']\n",
        "    return concordance / sum_weights"
      ]
    },
    {
      "cell_type": "markdown",
      "metadata": {
        "id": "YiDOQlJsYs4j"
      },
      "source": [
        "1.5) Check comprehensive concordance indexes for C(bus, some transportation) (HINT: for C(0,1) should be 0.6):"
      ]
    },
    {
      "cell_type": "code",
      "execution_count": 270,
      "metadata": {
        "colab": {
          "base_uri": "https://localhost:8080/"
        },
        "id": "TLOXqDCdYs4k",
        "outputId": "179c5ef0-4350-4bb0-a654-c01aceddb197"
      },
      "outputs": [
        {
          "name": "stdout",
          "output_type": "stream",
          "text": [
            "C(0,0) =  1.0\n",
            "C(0,1) =  0.6\n",
            "C(0,2) =  0.3\n",
            "C(0,3) =  0.5\n",
            "C(0,4) =  0.6\n"
          ]
        }
      ],
      "source": [
        "for alternative_id, alternative_row in data.iterrows():\n",
        "    print(\"C({0},{1}) = \".format(0, alternative_id), getComprehensiveConcordance(data.loc[0], alternative_row, criteria, parameters))"
      ]
    },
    {
      "cell_type": "markdown",
      "metadata": {
        "id": "dXjAApuQYs4l"
      },
      "source": [
        "1.6) Finish the below function for generating a concordance matrix. Use a majority_threshold as a cutting-level. For which pairs a concordance is fulfilled?"
      ]
    },
    {
      "cell_type": "code",
      "execution_count": 271,
      "metadata": {
        "id": "lHDphHktYs4l"
      },
      "outputs": [],
      "source": [
        "def getConcordanceMatrix(data, criteria, parameters, majority_treshold=0.7):\n",
        "    concordance_matrix = np.zeros((len(data),len(data)))\n",
        "    for A_idx, A_row in data.iterrows():\n",
        "        for B_idx, B_row in data.iterrows():\n",
        "            CompConc = getComprehensiveConcordance(A_row, B_row, criteria, parameters)\n",
        "            if A_row['mode'] == B_row['mode']:\n",
        "              continue\n",
        "            elif CompConc >= majority_treshold:\n",
        "              concordance_matrix[A_idx, B_idx] = 1\n",
        "            else:\n",
        "              continue\n",
        "    return concordance_matrix"
      ]
    },
    {
      "cell_type": "code",
      "execution_count": 272,
      "metadata": {
        "colab": {
          "base_uri": "https://localhost:8080/"
        },
        "id": "Dr0xp6p-Ys4m",
        "outputId": "e3e14300-2d49-4856-f930-cf73f68ea271"
      },
      "outputs": [
        {
          "name": "stdout",
          "output_type": "stream",
          "text": [
            "[[0. 0. 0. 0. 0.]\n",
            " [0. 0. 0. 0. 1.]\n",
            " [1. 1. 0. 1. 1.]\n",
            " [1. 0. 1. 0. 1.]\n",
            " [0. 0. 0. 0. 0.]]\n"
          ]
        }
      ],
      "source": [
        "print(getConcordanceMatrix(data, criteria, parameters))"
      ]
    },
    {
      "cell_type": "markdown",
      "metadata": {
        "id": "QkBp37FRYs4m"
      },
      "source": [
        "HINT :): The resulting matrix should be: <br><br>[[0. 0. 0. 0. 0.]<br>\n",
        " [0. 0. 0. 0. 1.]<br>\n",
        " [1. 1. 0. 1. 1.]<br>\n",
        " [1. 0. 1. 0. 1.]<br>\n",
        " [0. 0. 0. 0. 0.]]<br>"
      ]
    },
    {
      "cell_type": "markdown",
      "metadata": {
        "id": "IQlw9u41Ys4n"
      },
      "source": [
        "# Part 2: outranking graph"
      ]
    },
    {
      "cell_type": "markdown",
      "metadata": {
        "id": "Dhi5AeD-Ys4o"
      },
      "source": [
        "2.1) Complete the function for calculating a marginal discordance  $d_i(𝐴,𝐵)$ based on v treshold. $d_i(𝐴,𝐵) = 1$ when A is worse than B on criterion $i$ by at least the veto threshold, zero otherwise."
      ]
    },
    {
      "cell_type": "code",
      "execution_count": 273,
      "metadata": {
        "id": "vN9c3JOJYs4p"
      },
      "outputs": [],
      "source": [
        "def getDiscordanceGain(gA, gB, v):\n",
        "    if gB - gA >= v:\n",
        "      return 1\n",
        "    else:\n",
        "      return 0\n",
        "\n",
        "def getDiscordanceCost(gA, gB, v):\n",
        "    return getDiscordanceGain(gB, gA, v)\n"
      ]
    },
    {
      "cell_type": "markdown",
      "metadata": {
        "id": "MeDyykv4Ys4q"
      },
      "source": [
        "2.2) Calculate a comprehensive discordance index. $D(a,b) = 1$ if at least one criterion vetoes against aSb."
      ]
    },
    {
      "cell_type": "code",
      "execution_count": 274,
      "metadata": {
        "id": "_iIoM-PHYs4r"
      },
      "outputs": [],
      "source": [
        "def getComprehensiveDiscordance(A, B, criteria, parameters):\n",
        "    temp = 0\n",
        "    for criterion in criteria:\n",
        "      if parameters[criterion]['type'] == 'gain':\n",
        "        temp += getDiscordanceGain(A[criterion], B[criterion], parameters[criterion]['v'])\n",
        "      elif parameters[criterion]['type'] == 'cost':\n",
        "        temp += getDiscordanceCost(A[criterion], B[criterion], parameters[criterion]['v'])\n",
        "    if temp > 0:\n",
        "      return 1\n",
        "    else:\n",
        "      return 0."
      ]
    },
    {
      "cell_type": "markdown",
      "metadata": {
        "id": "BC9zTS1JYs4r"
      },
      "source": [
        "2.3) Check comprehensive discordance indexes for D(bus, some transportation):"
      ]
    },
    {
      "cell_type": "code",
      "execution_count": 275,
      "metadata": {
        "colab": {
          "base_uri": "https://localhost:8080/"
        },
        "id": "pHlWw4nMYs4r",
        "outputId": "41eb9ec6-890a-4b4e-d7f3-7be447d50de2"
      },
      "outputs": [
        {
          "name": "stdout",
          "output_type": "stream",
          "text": [
            "D(0,0) =  0.0\n",
            "D(0,1) =  1\n",
            "D(0,2) =  1\n",
            "D(0,3) =  0.0\n",
            "D(0,4) =  1\n"
          ]
        }
      ],
      "source": [
        "for alternative_id, alternative_row in data.iterrows():\n",
        "    print(\"D({0},{1}) = \".format(0, alternative_id),getComprehensiveDiscordance(data.loc[0], alternative_row, criteria, parameters))"
      ]
    },
    {
      "cell_type": "markdown",
      "metadata": {
        "id": "9lruTWT6Ys4r"
      },
      "source": [
        "2.4) Finish the below function for calculating a comprehensive discordance matrix."
      ]
    },
    {
      "cell_type": "code",
      "execution_count": 276,
      "metadata": {
        "id": "MW5gI_98Ys4s"
      },
      "outputs": [],
      "source": [
        "def getDiscordanceMatrix(data, criteria, parameters):\n",
        "    discordance_matrix = np.zeros((len(data),len(data)))\n",
        "    for A_idx, A_row in data.iterrows():\n",
        "        for B_idx, B_row in data.iterrows():\n",
        "            if A_idx != B_idx:\n",
        "                CompDisc = getComprehensiveDiscordance(A_row, B_row, criteria, parameters)\n",
        "                if CompDisc == 1:\n",
        "                  discordance_matrix[A_idx, B_idx] = 1\n",
        "                else:\n",
        "                  continue        \n",
        "    return discordance_matrix"
      ]
    },
    {
      "cell_type": "code",
      "execution_count": 277,
      "metadata": {
        "colab": {
          "base_uri": "https://localhost:8080/"
        },
        "id": "85x8aMljYs4s",
        "outputId": "949e8f45-bf35-4918-d9be-4fd2a74cbfb0"
      },
      "outputs": [
        {
          "data": {
            "text/plain": [
              "array([[0., 1., 1., 0., 1.],\n",
              "       [0., 0., 1., 1., 0.],\n",
              "       [0., 1., 0., 0., 1.],\n",
              "       [0., 0., 0., 0., 1.],\n",
              "       [1., 0., 1., 1., 0.]])"
            ]
          },
          "execution_count": 277,
          "metadata": {},
          "output_type": "execute_result"
        }
      ],
      "source": [
        "getDiscordanceMatrix(data, criteria, parameters)"
      ]
    },
    {
      "cell_type": "markdown",
      "metadata": {
        "id": "rxproT_ZYs4s"
      },
      "source": [
        "2.5) Now, finish the below function for generating the outranking matrix. This method should take into account both the concordance and discordance matrices."
      ]
    },
    {
      "cell_type": "code",
      "execution_count": 278,
      "metadata": {
        "id": "rDJYKtXiYs4t"
      },
      "outputs": [],
      "source": [
        "def getOutrankingMatrix(data, criteria, parameters, majority_treshold):\n",
        "    concordance_matrix = getConcordanceMatrix(data, criteria, parameters, majority_treshold)\n",
        "    discordance_matrix = getDiscordanceMatrix(data, criteria, parameters)\n",
        "    n = len(data)\n",
        "    outranking_matrix = np.zeros((n,n))\n",
        "    for A_idx in range(n):\n",
        "      for B_idx in range(n):\n",
        "        if concordance_matrix[A_idx, B_idx] == 1 and discordance_matrix[A_idx, B_idx] == 0:\n",
        "          outranking_matrix[A_idx, B_idx] = 1\n",
        "        else: \n",
        "          continue\n",
        "    return outranking_matrix"
      ]
    },
    {
      "cell_type": "code",
      "execution_count": 279,
      "metadata": {
        "colab": {
          "base_uri": "https://localhost:8080/"
        },
        "id": "v_wlNlQuYs4t",
        "outputId": "14085ac0-a760-4a31-b1b7-eb25067def0a"
      },
      "outputs": [
        {
          "name": "stdout",
          "output_type": "stream",
          "text": [
            "[[0. 0. 0. 0. 0.]\n",
            " [0. 0. 0. 0. 1.]\n",
            " [0. 0. 0. 0. 0.]\n",
            " [1. 0. 1. 0. 0.]\n",
            " [0. 0. 0. 0. 0.]]\n"
          ]
        }
      ],
      "source": [
        "outranking_matrix = getOutrankingMatrix(data, criteria, parameters, majority_treshold=0.75)\n",
        "print(outranking_matrix)"
      ]
    },
    {
      "cell_type": "markdown",
      "metadata": {
        "id": "FUSBgWmQYs4t"
      },
      "source": [
        "2.6) Change outranking matrix to adjacency list (dictionary) of a following form:"
      ]
    },
    {
      "cell_type": "code",
      "execution_count": 280,
      "metadata": {
        "id": "S6b9k6iwYs4u"
      },
      "outputs": [],
      "source": [
        "def toAdjacencyList(outranking_matrix):\n",
        "    n = len(outranking_matrix)\n",
        "    graph = {i:[] for i in range(n)}\n",
        "    for j in range(n):\n",
        "      for k in range(n):\n",
        "        if outranking_matrix[j][k] == 1:\n",
        "          graph[j].append(k)\n",
        "        else:\n",
        "          continue\n",
        "    return graph"
      ]
    },
    {
      "cell_type": "code",
      "execution_count": 281,
      "metadata": {
        "colab": {
          "base_uri": "https://localhost:8080/"
        },
        "id": "Yatl_c3aYs4u",
        "outputId": "8d5f358d-893d-4f75-9179-6c8ed6b6f071"
      },
      "outputs": [
        {
          "name": "stdout",
          "output_type": "stream",
          "text": [
            "{0: [], 1: [4], 2: [], 3: [0, 2], 4: []}\n"
          ]
        }
      ],
      "source": [
        "graph = toAdjacencyList(outranking_matrix)\n",
        "print(graph)"
      ]
    },
    {
      "cell_type": "markdown",
      "metadata": {
        "id": "Hq6GpU3SYs4v"
      },
      "source": [
        "2.4) Draw outranking graph, and remove cycles (manually)."
      ]
    },
    {
      "cell_type": "code",
      "execution_count": 282,
      "metadata": {
        "colab": {
          "base_uri": "https://localhost:8080/",
          "height": 257
        },
        "id": "AzzznmcRYs4v",
        "outputId": "2d443874-e20c-41f1-c432-a4de06d6cccb"
      },
      "outputs": [
        {
          "data": {
            "text/plain": [
              "<matplotlib.image.AxesImage at 0x7ffa05655e90>"
            ]
          },
          "execution_count": 282,
          "metadata": {},
          "output_type": "execute_result"
        },
        {
          "data": {
            "image/png": "[encoded data removed]",
            "text/plain": [
              "<Figure size 432x288 with 1 Axes>"
            ]
          },
          "metadata": {
            "needs_background": "light"
          },
          "output_type": "display_data"
        }
      ],
      "source": [
        "cm.PrintGraph(graph, filename=\"graph_part_2\")\n",
        "plt.imshow(plt.imread(\"graph_part_2.png\"))"
      ]
    },
    {
      "cell_type": "code",
      "execution_count": 283,
      "metadata": {
        "colab": {
          "base_uri": "https://localhost:8080/"
        },
        "id": "QY9_FbamdYhG",
        "outputId": "65dd2257-75de-434b-90c2-dd3593bdb913"
      },
      "outputs": [
        {
          "data": {
            "text/plain": [
              "[1, 3]"
            ]
          },
          "execution_count": 283,
          "metadata": {},
          "output_type": "execute_result"
        }
      ],
      "source": [
        "kernel = []\n",
        "reverse_graph = getReverseGraph(graph)\n",
        "Kernel(reverse_graph, kernel)"
      ]
    },
    {
      "cell_type": "markdown",
      "metadata": {
        "id": "sHYgNO4LYs4v"
      },
      "source": [
        "2.5) **Question: Which mode of transport are in the kernel?**"
      ]
    },
    {
      "cell_type": "markdown",
      "metadata": {
        "id": "Dxmy6C8uds5N"
      },
      "source": [
        "The kernel contains Bike(1) and Train(3) modes of transport"
      ]
    },
    {
      "cell_type": "markdown",
      "metadata": {
        "id": "laXurgfrYs4v"
      },
      "source": [
        "# Part 3: Kernel"
      ]
    },
    {
      "cell_type": "markdown",
      "metadata": {
        "id": "V9zR1oIkYs4w"
      },
      "source": [
        "3.1) Given is the below outranking matrix"
      ]
    },
    {
      "cell_type": "code",
      "execution_count": 284,
      "metadata": {
        "id": "FRaf1NTNYs4w"
      },
      "outputs": [],
      "source": [
        "outranking_matrix = np.array(   [[0., 1., 0., 0., 0., 0., 1., 0.],\n",
        "                                 [0., 0., 1., 0., 1., 0., 0., 0.],\n",
        "                                 [0., 0., 0., 0., 0., 0., 0., 1.],\n",
        "                                 [0., 0., 0., 0., 1., 0., 1., 0.],\n",
        "                                 [0., 0., 0., 0., 0., 1., 0., 0.],\n",
        "                                 [0., 0., 0., 0., 0., 0., 1., 0.],\n",
        "                                 [0., 0., 0., 0., 0., 0., 0., 1.],\n",
        "                                 [0., 0., 0., 0., 0., 0., 0., 0.]]) "
      ]
    },
    {
      "cell_type": "code",
      "execution_count": 285,
      "metadata": {
        "id": "tNwfhyCyYs4w"
      },
      "outputs": [],
      "source": [
        "graph = toAdjacencyList(outranking_matrix)"
      ]
    },
    {
      "cell_type": "code",
      "execution_count": 286,
      "metadata": {
        "colab": {
          "base_uri": "https://localhost:8080/"
        },
        "id": "J_LkjzIiYs4x",
        "outputId": "f766cede-2cc3-4447-d55f-e8ae6b9ba7c3"
      },
      "outputs": [
        {
          "data": {
            "text/plain": [
              "{0: [1, 6], 1: [2, 4], 2: [7], 3: [4, 6], 4: [5], 5: [6], 6: [7], 7: []}"
            ]
          },
          "execution_count": 286,
          "metadata": {},
          "output_type": "execute_result"
        }
      ],
      "source": [
        "graph"
      ]
    },
    {
      "cell_type": "markdown",
      "metadata": {
        "id": "8XpIG9PlYs4x"
      },
      "source": [
        "3.2) Display the outranking graph. **Question: Which alternatives belong to kernel?**"
      ]
    },
    {
      "cell_type": "markdown",
      "metadata": {
        "id": "sH6JOFTDuBo-"
      },
      "source": [
        "Alternatives #: 0 3 5 2"
      ]
    },
    {
      "cell_type": "code",
      "execution_count": 287,
      "metadata": {
        "colab": {
          "base_uri": "https://localhost:8080/",
          "height": 286
        },
        "id": "Kn6NjrhEYs4x",
        "outputId": "2ed23dae-dd33-42d3-f42c-fe2972b69154"
      },
      "outputs": [
        {
          "data": {
            "text/plain": [
              "<matplotlib.image.AxesImage at 0x7ffa055c8990>"
            ]
          },
          "execution_count": 287,
          "metadata": {},
          "output_type": "execute_result"
        },
        {
          "data": {
            "image/png": "[encoded data removed]",
            "text/plain": [
              "<Figure size 432x288 with 1 Axes>"
            ]
          },
          "metadata": {
            "needs_background": "light"
          },
          "output_type": "display_data"
        }
      ],
      "source": [
        "cm.PrintGraph(graph, filename=\"graph_part_3\")\n",
        "plt.imshow(plt.imread(\"graph_part_3.png\"))"
      ]
    },
    {
      "cell_type": "markdown",
      "metadata": {
        "id": "rEZ0gtBvYs4y"
      },
      "source": [
        "3.3) In this exercise, you are asked to complete the function for constructing a kernel. Firstly, complete the below auxiliary function which reverses edges of the graph (i.e., constructs reversed adjancency dictionary)"
      ]
    },
    {
      "cell_type": "code",
      "execution_count": 288,
      "metadata": {
        "id": "kDZ15SUrYs4y"
      },
      "outputs": [],
      "source": [
        "def getReverseGraph(graph):\n",
        "    n = len(graph)\n",
        "    reverse_graph = {i:[] for i in graph}\n",
        "    outrank = np.zeros((n, n))\n",
        "    for i in graph:\n",
        "      for j in graph[i]:\n",
        "        outrank[i, j] = 1\n",
        "    for j in range(n):\n",
        "      for k in range(n):\n",
        "        if outrank[k][j] == 1:\n",
        "          reverse_graph[j].append(k)\n",
        "        else:\n",
        "          continue\n",
        "    return reverse_graph"
      ]
    },
    {
      "cell_type": "markdown",
      "metadata": {
        "id": "oINSna9AYs4y"
      },
      "source": [
        "3.4) Verify the correctness: compare the below reverse_graph with the above graph variable."
      ]
    },
    {
      "cell_type": "code",
      "execution_count": 290,
      "metadata": {
        "colab": {
          "base_uri": "https://localhost:8080/"
        },
        "id": "Njd5mJbhYs4y",
        "outputId": "3c10507c-4e76-4099-830b-2722cc753324"
      },
      "outputs": [
        {
          "data": {
            "text/plain": [
              "{0: [], 1: [0], 2: [1], 3: [], 4: [1, 3], 5: [4], 6: [0, 3, 5], 7: [2, 6]}"
            ]
          },
          "execution_count": 290,
          "metadata": {},
          "output_type": "execute_result"
        }
      ],
      "source": [
        "reverse_graph = getReverseGraph(graph)\n",
        "reverse_graph"
      ]
    },
    {
      "cell_type": "markdown",
      "metadata": {
        "id": "VNuW8FZjYs4z"
      },
      "source": [
        "3.2) Now, complete the below function for finding a graph kernel. This algorithm should proceed in the following way: <br>\n",
        "1) Find non-outranked vertices. Add them to the kernel. <br> \n",
        "2) Remove the already found vertices from the graph and these vertices which are surpassed by them.<br>\n",
        "3) Repeat (go to 1) until all vertices are removed from the graph. \n",
        "\n",
        "You can use the auxiliary reverse_graph structure. It can be helpfull for finding non-outranked vertices."
      ]
    },
    {
      "cell_type": "code",
      "execution_count": 291,
      "metadata": {
        "id": "GPZpU_5o05zb"
      },
      "outputs": [],
      "source": [
        "\n",
        "def getKernel(reverse_graph, kernel):\n",
        "  for node in reverse_graph:\n",
        "    if len(reverse_graph[node]) == 0:\n",
        "      kernel.append(node)\n",
        "  return kernel\n",
        "def getNewGraph(reverse_graph, kernel):\n",
        "  new_reverse_graph = {}\n",
        "  for node in reverse_graph:\n",
        "    temp1 = 0\n",
        "    if node not in kernel:\n",
        "      for j in reverse_graph[node]:\n",
        "        if j in kernel:\n",
        "          temp1 +=1\n",
        "        else:\n",
        "          continue\n",
        "      if temp1 == 0:\n",
        "        new_reverse_graph[node] = reverse_graph[node]\n",
        "      else:\n",
        "        continue\n",
        "  else:\n",
        "    pass\n",
        "  return new_reverse_graph\n",
        "def clearGraph(graph):\n",
        "  for node in graph:\n",
        "    temp2 = 0\n",
        "    for j in graph[node]:\n",
        "      if j not in graph.keys():\n",
        "        graph[node].remove(j)\n",
        "  return graph"
      ]
    },
    {
      "cell_type": "code",
      "execution_count": 292,
      "metadata": {
        "id": "KGNdUg2dYs4z"
      },
      "outputs": [],
      "source": [
        "kernel = []\n",
        "def Kernel(graph, kernel):\n",
        "    getKernel(graph, kernel)\n",
        "    new_graph1 = getNewGraph(graph, kernel)\n",
        "    new_graph = clearGraph(new_graph1)\n",
        "    if len(new_graph) == 0:\n",
        "      return kernel\n",
        "    else:\n",
        "      return Kernel(new_graph, kernel)"
      ]
    },
    {
      "cell_type": "code",
      "execution_count": 293,
      "metadata": {
        "colab": {
          "base_uri": "https://localhost:8080/"
        },
        "id": "zcUJv8m2Ys4z",
        "outputId": "0638ddde-bafe-4370-b2d6-9c18a9233d89"
      },
      "outputs": [
        {
          "data": {
            "text/plain": [
              "[0, 3, 2, 5]"
            ]
          },
          "execution_count": 293,
          "metadata": {},
          "output_type": "execute_result"
        }
      ],
      "source": [
        "kernel = []\n",
        "reverse_graph = getReverseGraph(graph)\n",
        "Kernel(reverse_graph, kernel)"
      ]
    }
  ],
  "metadata": {
    "colab": {
      "name": "MCDA.ipynb",
      "provenance": []
    },
    "kernelspec": {
      "display_name": "Python 3",
      "language": "python",
      "name": "python3"
    },
    "language_info": {
      "codemirror_mode": {
        "name": "ipython",
        "version": 3
      },
      "file_extension": ".py",
      "mimetype": "text/x-python",
      "name": "python",
      "nbconvert_exporter": "python",
      "pygments_lexer": "ipython3",
      "version": "3.7.4"
    },
    "toc-autonumbering": false
  },
  "nbformat": 4,
  "nbformat_minor": 0
}
